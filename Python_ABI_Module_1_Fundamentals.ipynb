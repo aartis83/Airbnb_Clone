{
  "nbformat": 4,
  "nbformat_minor": 0,
  "metadata": {
    "colab": {
      "provenance": [],
      "collapsed_sections": [
        "dOubnFRpNFim",
        "0U3JGHXoNFel",
        "u0rWNDDC4Ljq",
        "mBiU3IeZGzeK",
        "viD2-lKBJDD4",
        "sVY73eBp3dt_"
      ],
      "toc_visible": true,
      "include_colab_link": true
    },
    "kernelspec": {
      "name": "python3",
      "display_name": "Python 3"
    },
    "language_info": {
      "name": "python"
    }
  },
  "cells": [
    {
      "cell_type": "markdown",
      "metadata": {
        "id": "view-in-github",
        "colab_type": "text"
      },
      "source": [
        "<a href=\"https://colab.research.google.com/github/aartis83/Airbnb_Clone/blob/master/Python_ABI_Module_1_Fundamentals.ipynb\" target=\"_parent\"><img src=\"https://colab.research.google.com/assets/colab-badge.svg\" alt=\"Open In Colab\"/></a>"
      ]
    },
    {
      "cell_type": "markdown",
      "source": [
        "<img src='https://cdn.ourcodeworld.com/public-media/articles/articleocw-5c65fbda1ea05.jpg' width='750'>\n",
        "\n",
        "# What is Python and Why are we Learning it?\n",
        "\n",
        "Python is a general purpose programming language developed in 1991. It was originally developed to be easier to use than other popular languages at the time (C, ABC, etc.). At the time, Python was mainly being used for web development.\n",
        "\n",
        "It wasn't until the late 2000's, with the addition of the NumPy and Pandas Libraries (think of them like add-ons), that the dominant focus of Python shifted to data analysis. In the 2010's, Python became the dominant programming language for machine learning, with the releases of TensorFlow (Google) and PyTorch (Facebook). The top reasons to learn Python are:\n",
        "\n",
        "1. It is easy to learn compared to other programming languages (huge community on StackOverflow, other sites).\n",
        "2. It has hundreds of thousands of open source libraries (think add-ons) that do almost anything you can think of (mapping, machine learning, statistics, image processing, etc.)\n",
        "3. It is a popular requirement on data jobs\n",
        "\n",
        "Today, Python rivals R as a powerful, flexible data analysis programming language. It is often chosen over other tools for the following reasons:\n",
        "- Python vs R: Machine learning, better integration with other software\n",
        "- Python vs Excel: Easier to repeat analysis steps, automate tasks\n",
        "- Python vs Power BI/Tableau: Open source, more advanced calculations, dirty data\n",
        "- Python vs SQL: Python can connect directly to databases but is often used in combination with SQL\n",
        "\n",
        "<img src='https://res.cloudinary.com/dyd911kmh/image/upload/f_auto,q_auto:best/v1603200011/Technologies_gesmfa.png' width='750'>\n",
        "\n",
        "Although Python is considered the [most popular](https://www.tiobe.com/tiobe-index/) general purpose programming language, it is not the best at any one thing. It is, however, second/third best at most things, and often the easiest option. That's what makes it a very good language to learn - it is truly a swiss army knife (developed by a Dutchman).\n",
        "\n",
        "# Reasons NOT to use Python\n",
        "- You're doing a simple, one-time analysis that can be done in a spreadsheet (Excel)\n",
        "- You need to develop an interactive dashboard (Power BI/Tableau)\n",
        "- Your dataset is already pretty 'clean'\n",
        "- You don't like programming and willing to learn advanced Excel, Power BI\n",
        "- You prefer R (many people with math/statistics background prefer R)\n",
        "- You are writing software that needs to run FAST (Scala, C)\n",
        "- You are writing front end web software (JavaScript)\n",
        "---"
      ],
      "metadata": {
        "id": "PDNcB_viariM"
      }
    },
    {
      "cell_type": "markdown",
      "source": [
        "# How to Take this Course\n",
        "\n",
        "In this course, we will be learning programming and data analysis. These subjects involve theory and practice. The ABI program focuses on PRACTICE.\n",
        "- Save a copy of this Notebook in your Drive\n",
        "- Write and edit code in your Notebook\n",
        "- Ask as many questions as you have (this is an intro course, there are NO dumb questions)\n",
        "- Bring your own problems and ask questions on how to approach them (data analysis problem at work or school)\n",
        "\n",
        "If you do not do these things, you will not retain much from this course. [Studies have shown](https://www.psychotactics.com/art-retain-learning/) that you retain:\n",
        "\n",
        "- 75% of what you learn through practice\n",
        "- 50% of what you learn through discussion with others\n",
        "- 30% of what you learn through a demonstration\n",
        "- 10% of what you learn from reading\n",
        "- 5% of what you learn from a lecture\n",
        "\n",
        "### Recommendations\n",
        "\n",
        "* Learning Python requires context. **Experiment** with your creativity when learning it and use any search engine (Google, Bing, etc.) to explore the concept further with different examples.\n",
        "\n",
        "* **Practice** makes perfect. When exploring a programming concept, try to test it with different approaches to understand what works and what does not and why it does so.\n",
        "\n",
        "* Do not be afraid to **test the limits**. You can create a backup copy of this file and if anything goes wrong, you can always use the backup copy.\n",
        "\n",
        "\n",
        "## Do you want to retain 75% of this course or 30%? The choice is yours.\n",
        "\n",
        "---\n",
        "\n"
      ],
      "metadata": {
        "id": "UDzeBIH9ifKk"
      }
    },
    {
      "cell_type": "markdown",
      "source": [
        "# Syllabus\n",
        "\n",
        "## Module 1 - Fundamentals\n",
        "- Jupyter Notebooks\n",
        "- Variables\n",
        "- Data Types\n",
        "- Switching Data Types (Casting)\n",
        "- Arithmetic Operators\n",
        "- Comparison Operators\n",
        "- Lists\n",
        "- Dictionaries\n",
        "- Conditionals (If-statements)\n",
        "- Loops\n",
        "- Functions\n",
        "- Libraries\n",
        "\n",
        "## Module 2 - Data Analysis\n",
        "- Pandas\n",
        "- Data cleaning\n",
        "\n",
        "## Module 3 - Case Study\n",
        "- Excel exercises repeated in Python\n"
      ],
      "metadata": {
        "id": "C-mc1mZai1dG"
      }
    },
    {
      "cell_type": "markdown",
      "source": [
        "# Intro to Jupyter/Colab Notebook (how this interface works)\n",
        "\n",
        "This document that you're currently reading is called a \"Jupyter Notebook\" or \"Colab Notebook\" (since we it is hosted on Google Colab). It's similar to a text document, but you can do many things with it:\n",
        "\n",
        "- Run code\n",
        "- Show graphs\n",
        "- Pull data from various databases\n",
        "- Include HTML/Markdown content (text, images, links)\n",
        "\n",
        "Jupyter Notebook is made up of modular units called cells that you can add, edit, delete and move up/down.\n",
        "\n",
        "Cells can contain different types of contents, but we will mainly be working with two types:\n",
        "\n",
        "- Code cells: you can type in Python code into these cells and run them for the output\n",
        "- Markdown cells: you can insert HTML/Markdown content (text, images, links) to provide context and content to your notebook"
      ],
      "metadata": {
        "id": "uUxdzJDNBE-6"
      }
    },
    {
      "cell_type": "markdown",
      "source": [
        "When you double click the cell it will open an edit mode.\n",
        "\n",
        "Once you've made the changes, you have to \"run\" the cell to display the changes.\n",
        "\n",
        "There are many keyboard shortcuts that will let you interact with your documents, run code and make other changes. For example, there are two shortcuts to execute a cell:\n",
        "\n",
        "shift + return: Run cell and advance to the next one"
      ],
      "metadata": {
        "id": "A0ZosF4SCXRc"
      }
    },
    {
      "cell_type": "markdown",
      "source": [
        "## Make a copy of this Notebook\n",
        "This Notebook is meant to be interactive. There will be exercises and questions to answer by writing code into the Notebook cells. It will not allow you to save changes, because it is owned by the instructor. Therefore, you must create your own copy of the Notebook to save your changes.\n",
        "\n",
        "1. Under \"File\", click \"Save a Copy in Drive\".\n",
        "2. Open that copy and go through the rest of this session."
      ],
      "metadata": {
        "id": "TeHL-ucikNFO"
      }
    },
    {
      "cell_type": "code",
      "source": [
        "# Change the text inside the quotes to your name,\n",
        "# then hit the PLAY button on the left to run the code\n",
        "print('Ahmed')"
      ],
      "metadata": {
        "id": "BfaqFVCui65n",
        "colab": {
          "base_uri": "https://localhost:8080/"
        },
        "outputId": "c74705f5-219a-459f-b940-2c00b0b7abb4"
      },
      "execution_count": null,
      "outputs": [
        {
          "output_type": "stream",
          "name": "stdout",
          "text": [
            "Ahmed\n"
          ]
        }
      ]
    },
    {
      "cell_type": "markdown",
      "source": [
        "## Important notes"
      ],
      "metadata": {
        "id": "wuMUqQmbTWFa"
      }
    },
    {
      "cell_type": "markdown",
      "source": [
        "\n",
        "\n",
        "*   Jupyter notebook cells have a shared memory within a notebook. If you are running a piece of code \"B\", that depends on another piece of code \"A\", make sure to run Cell A first.\n",
        "*   Lines of code that start with the hash symbol (#) will be ignored by the Python interpreter (they are meant to be comments)\n",
        "\n",
        "*   Once you come across an error, try to understand what may have caused the error. You can always rely on search engines to help you out, even in the workplace!\n",
        "\n"
      ],
      "metadata": {
        "id": "335w6rF3TbzI"
      }
    },
    {
      "cell_type": "markdown",
      "source": [
        "## Understanding errors"
      ],
      "metadata": {
        "id": "A6Ng-JpcUtiF"
      }
    },
    {
      "cell_type": "markdown",
      "source": [
        "Programming is a life full of bugs and errors that you have to learn how to navigate around if you want to excel at it. There is no perfect code and even if a code runs, there is always a chance of the wrong logic being implemented. \n",
        "\n",
        "Understanding errors will make your learning process smoother and quicker as well as help you debug issues that you may face while coding. If it is an error that you have never faced before, search engines and community websites like [GitHub](https://www.github.com) and [Stackoverflow](https://www.stackoverflow.com) are your best bets at resolving it.\n",
        "\n",
        "**In Google Colab, there's a \"SEARCH STACK OVERFLOW\" button on every error message! Super cool!**"
      ],
      "metadata": {
        "id": "u-2oJOHDUwjO"
      }
    },
    {
      "cell_type": "code",
      "source": [
        "# Example: variable not defined error\n",
        "print(f)"
      ],
      "metadata": {
        "id": "7Bcnqi4pVZ93",
        "colab": {
          "base_uri": "https://localhost:8080/",
          "height": 181
        },
        "outputId": "f4295d70-e350-4039-9702-5756ec8e892f"
      },
      "execution_count": null,
      "outputs": [
        {
          "output_type": "error",
          "ename": "NameError",
          "evalue": "ignored",
          "traceback": [
            "\u001b[0;31m---------------------------------------------------------------------------\u001b[0m",
            "\u001b[0;31mNameError\u001b[0m                                 Traceback (most recent call last)",
            "\u001b[0;32m<ipython-input-129-a88e47db1ca2>\u001b[0m in \u001b[0;36m<cell line: 2>\u001b[0;34m()\u001b[0m\n\u001b[1;32m      1\u001b[0m \u001b[0;31m# Example: variable not defined error\u001b[0m\u001b[0;34m\u001b[0m\u001b[0;34m\u001b[0m\u001b[0m\n\u001b[0;32m----> 2\u001b[0;31m \u001b[0mprint\u001b[0m\u001b[0;34m(\u001b[0m\u001b[0mf\u001b[0m\u001b[0;34m)\u001b[0m\u001b[0;34m\u001b[0m\u001b[0;34m\u001b[0m\u001b[0m\n\u001b[0m",
            "\u001b[0;31mNameError\u001b[0m: name 'f' is not defined"
          ]
        }
      ]
    },
    {
      "cell_type": "markdown",
      "source": [
        "# Python Fundamentals\n",
        "\n",
        "Python is an interpreted, dynamically typed programming language. This means:\n",
        "- Interpreted: One line of code is run at a time\n",
        "- Dynamically typed: Python figures out what kind of data you're working with (numbers, text, etc.)\n",
        "\n",
        "We're going to start with treating Python like a simple calculator and adding more and more complexity as we go through this session."
      ],
      "metadata": {
        "id": "eYh6ElYttGiN"
      }
    },
    {
      "cell_type": "code",
      "source": [
        "# Simple math\n",
        "5+5"
      ],
      "metadata": {
        "id": "IK8G3muytFDs",
        "colab": {
          "base_uri": "https://localhost:8080/"
        },
        "outputId": "c0098617-999b-4df3-8459-697f221cfa49"
      },
      "execution_count": null,
      "outputs": [
        {
          "output_type": "execute_result",
          "data": {
            "text/plain": [
              "10"
            ]
          },
          "metadata": {},
          "execution_count": 130
        }
      ]
    },
    {
      "cell_type": "code",
      "source": [
        "# Slightly more complicated\n",
        "10 * (2+3) - 3 / (27**3) + 10"
      ],
      "metadata": {
        "id": "HuPdWzYelifm",
        "colab": {
          "base_uri": "https://localhost:8080/"
        },
        "outputId": "dc744e12-c561-4712-eb20-02adc0a7cbfe"
      },
      "execution_count": null,
      "outputs": [
        {
          "output_type": "execute_result",
          "data": {
            "text/plain": [
              "59.999847584209725"
            ]
          },
          "metadata": {},
          "execution_count": 131
        }
      ]
    },
    {
      "cell_type": "code",
      "source": [
        "# Symbolic math\n",
        "x = 6.3224552434\n",
        "y = 4.2221111\n",
        "\n",
        "height = 180\n",
        "\n",
        "x + y"
      ],
      "metadata": {
        "id": "xrsOYpaLmyr3",
        "colab": {
          "base_uri": "https://localhost:8080/"
        },
        "outputId": "bda958bc-1894-48a9-a8d3-a49a137dc6f9"
      },
      "execution_count": null,
      "outputs": [
        {
          "output_type": "execute_result",
          "data": {
            "text/plain": [
              "10.5445663434"
            ]
          },
          "metadata": {},
          "execution_count": 132
        }
      ]
    },
    {
      "cell_type": "code",
      "source": [
        "x+y+height"
      ],
      "metadata": {
        "id": "uVKhxbs9jpmt",
        "colab": {
          "base_uri": "https://localhost:8080/"
        },
        "outputId": "4bdd2e1e-46c7-4c8f-8466-ec672c452e2b"
      },
      "execution_count": null,
      "outputs": [
        {
          "output_type": "execute_result",
          "data": {
            "text/plain": [
              "190.5445663434"
            ]
          },
          "metadata": {},
          "execution_count": 133
        }
      ]
    },
    {
      "cell_type": "code",
      "source": [
        "print(6*5)\n",
        "print(10*10)"
      ],
      "metadata": {
        "id": "qDNVuovu_afy",
        "colab": {
          "base_uri": "https://localhost:8080/"
        },
        "outputId": "9cc6bb46-8689-44c3-d1c9-c1633c790027"
      },
      "execution_count": null,
      "outputs": [
        {
          "output_type": "stream",
          "name": "stdout",
          "text": [
            "30\n",
            "100\n"
          ]
        }
      ]
    },
    {
      "cell_type": "code",
      "source": [
        "6*5\n",
        "10*10"
      ],
      "metadata": {
        "id": "dYbHWY75_qGF",
        "colab": {
          "base_uri": "https://localhost:8080/"
        },
        "outputId": "8464847b-e129-4bc2-f4dd-3dcbb2c3a565"
      },
      "execution_count": null,
      "outputs": [
        {
          "output_type": "execute_result",
          "data": {
            "text/plain": [
              "100"
            ]
          },
          "metadata": {},
          "execution_count": 135
        }
      ]
    },
    {
      "cell_type": "markdown",
      "source": [
        "**Question**"
      ],
      "metadata": {
        "id": "voJewC58n46l"
      }
    },
    {
      "cell_type": "code",
      "source": [
        "# What's the formula for weight in kilograms?\n",
        "\n",
        "weight_in_lb = 200\n",
        "factor = 0.45\n",
        "\n",
        "weight_in_lb*factor\n"
      ],
      "metadata": {
        "id": "v77y4Mzgns4w",
        "colab": {
          "base_uri": "https://localhost:8080/"
        },
        "outputId": "d990b161-3a51-4d54-d116-895a6e7d2e4a"
      },
      "execution_count": null,
      "outputs": [
        {
          "output_type": "execute_result",
          "data": {
            "text/plain": [
              "90.0"
            ]
          },
          "metadata": {},
          "execution_count": 136
        }
      ]
    },
    {
      "cell_type": "markdown",
      "source": [
        "These are commonly used terms in Python:\n",
        "\n",
        "* **Data**: Information stored and used by a computer to perform operations\n",
        "\n",
        "* **Jupyter notebook**: This document editor you are currently using  \n",
        "\n",
        "* **Python**: The programming language you are currently learning  \n",
        "\n",
        "* **Syntax**: The structure of a code when written\n",
        "\n",
        "* **Code**: Pieces of the programming language that tell the computer what to do with the data   \n",
        "\n",
        "* **Value**: Same as data   \n",
        "\n",
        "* **Input**: Entry data   \n",
        "\n",
        "* **Output**: Resultant data produced by a piece of code   \n",
        "\n",
        "* **Console**: The interface display of Python   \n",
        "\n",
        "***\n"
      ],
      "metadata": {
        "id": "9UL89ojdsk0i"
      }
    },
    {
      "cell_type": "markdown",
      "source": [
        "You can use the print function to display the output of a code in Python.\n"
      ],
      "metadata": {
        "id": "Cu4WXqJEhmes"
      }
    },
    {
      "cell_type": "code",
      "source": [
        "print(6)\n",
        "print(1+2)\n",
        "print(\"Hello World\")\n",
        "\"Hello World\"\n",
        "\n",
        "\"number\"\n",
        "\"hat\"\n",
        "\"dog\""
      ],
      "metadata": {
        "id": "bzGN_ePOht7z",
        "colab": {
          "base_uri": "https://localhost:8080/",
          "height": 86
        },
        "outputId": "a297396c-a468-492d-eb34-0e8558ea4aeb"
      },
      "execution_count": null,
      "outputs": [
        {
          "output_type": "stream",
          "name": "stdout",
          "text": [
            "6\n",
            "3\n",
            "Hello World\n"
          ]
        },
        {
          "output_type": "execute_result",
          "data": {
            "text/plain": [
              "'dog'"
            ],
            "application/vnd.google.colaboratory.intrinsic+json": {
              "type": "string"
            }
          },
          "metadata": {},
          "execution_count": 137
        }
      ]
    },
    {
      "cell_type": "markdown",
      "source": [
        "Jupyter notebook will automatically output the result of the last line of code."
      ],
      "metadata": {
        "id": "QLVIIx7rh3yP"
      }
    },
    {
      "cell_type": "code",
      "source": [
        "3+3  # gets ignored\n",
        "print(7)\n",
        "1+2"
      ],
      "metadata": {
        "id": "CLhqheKIhiu0",
        "colab": {
          "base_uri": "https://localhost:8080/"
        },
        "outputId": "49553211-93d0-47b7-dda2-68cd41e94cc9"
      },
      "execution_count": null,
      "outputs": [
        {
          "output_type": "stream",
          "name": "stdout",
          "text": [
            "7\n"
          ]
        },
        {
          "output_type": "execute_result",
          "data": {
            "text/plain": [
              "3"
            ]
          },
          "metadata": {},
          "execution_count": 138
        }
      ]
    },
    {
      "cell_type": "markdown",
      "source": [
        "You can put comments in the code block to provide context or to skip execution of a line of code.\n",
        "\n",
        "Comments begin with a hash (#) symbol. Anything written after it on the same line will be ignored by Python\n"
      ],
      "metadata": {
        "id": "qCCIVNMl6ebw"
      }
    },
    {
      "cell_type": "code",
      "source": [
        "# Testing comments - Run this cell\n",
        "\n",
        "# print('This is a comment, it will not be run')\n",
        "print('This is not a comment, it will be run') # inline comment print('ah')"
      ],
      "metadata": {
        "id": "DlNgjIN57R04",
        "colab": {
          "base_uri": "https://localhost:8080/"
        },
        "outputId": "cfa9a34c-b35b-4241-942c-c0932f93257d"
      },
      "execution_count": null,
      "outputs": [
        {
          "output_type": "stream",
          "name": "stdout",
          "text": [
            "This is not a comment, it will be run\n"
          ]
        }
      ]
    },
    {
      "cell_type": "markdown",
      "source": [
        "In python, you can assign a data value to a variable using the equals (=) operator. During an assignment operation, the contents on the right side of the equals (=) sign is evaluated first, followed by the assignment of the value to the variable on the left."
      ],
      "metadata": {
        "id": "mJflm2X-i5r5"
      }
    },
    {
      "cell_type": "code",
      "source": [
        "5"
      ],
      "metadata": {
        "id": "yHT6lcUPD1KO",
        "colab": {
          "base_uri": "https://localhost:8080/"
        },
        "outputId": "d392b4a7-0f23-47ce-b939-33b00b0e5fe2"
      },
      "execution_count": null,
      "outputs": [
        {
          "output_type": "execute_result",
          "data": {
            "text/plain": [
              "5"
            ]
          },
          "metadata": {},
          "execution_count": 140
        }
      ]
    },
    {
      "cell_type": "code",
      "source": [
        "# Testing value assignment\n",
        "x = 5\n",
        "print(x)"
      ],
      "metadata": {
        "id": "FnBOnclfjTpb",
        "colab": {
          "base_uri": "https://localhost:8080/"
        },
        "outputId": "d86a8dd3-a217-4b8a-9bcd-0551993cd6c9"
      },
      "execution_count": null,
      "outputs": [
        {
          "output_type": "stream",
          "name": "stdout",
          "text": [
            "5\n"
          ]
        }
      ]
    },
    {
      "cell_type": "markdown",
      "source": [
        "In the code above, Python evaluates the value 5 on the right side first and then assigns the variable x with the evaluated value of 5."
      ],
      "metadata": {
        "id": "VnE598SbsG-i"
      }
    },
    {
      "cell_type": "markdown",
      "source": [
        "## Variables\n",
        "***"
      ],
      "metadata": {
        "id": "GzYERLLYsGRm"
      }
    },
    {
      "cell_type": "markdown",
      "source": [
        "In programming, variables are like nicknames for information that give context and convenience. For example:\n",
        "\n",
        "Nick's age is 5. How would we program that?\n",
        "\n",
        "```\n",
        "age_of_nick = 5\n",
        "```\n",
        "\n",
        "Today's date is July 20th. How would we program that?\n",
        "\n",
        "```\n",
        "todays_date = '20-Jul-2022'\n",
        "```"
      ],
      "metadata": {
        "id": "fCSnzVRxiVjy"
      }
    },
    {
      "cell_type": "markdown",
      "source": [
        "There is no specific command in Python to define a variable. It is created when a value is assigned to it"
      ],
      "metadata": {
        "id": "QlEUYJCinz6f"
      }
    },
    {
      "cell_type": "code",
      "source": [
        "# Variable assignment\n",
        "\n",
        "a = 10\n",
        "x = 15.5\n",
        "y = 'abc'\n",
        "z = True"
      ],
      "metadata": {
        "id": "fdMszxkin9hb"
      },
      "execution_count": null,
      "outputs": []
    },
    {
      "cell_type": "markdown",
      "source": [
        "When you use the [print()](https://www.w3schools.com/python/ref_func_print.asp) command on the variable, it prints out the data value it stores."
      ],
      "metadata": {
        "id": "Y5iVW-7VoMvl"
      }
    },
    {
      "cell_type": "code",
      "source": [
        "# Printing variables\n",
        "\n",
        "print(a)\n",
        "print(x)\n",
        "print(y)\n",
        "print(z)"
      ],
      "metadata": {
        "id": "RZCALtoeoFU5",
        "colab": {
          "base_uri": "https://localhost:8080/"
        },
        "outputId": "a7fee6f5-f0f9-454c-ab56-14421d48d0a4"
      },
      "execution_count": null,
      "outputs": [
        {
          "output_type": "stream",
          "name": "stdout",
          "text": [
            "10\n",
            "15.5\n",
            "abc\n",
            "True\n"
          ]
        }
      ]
    },
    {
      "cell_type": "markdown",
      "source": [
        "Python variables do not need to be specified to contain any specific type of data, but takes on the data type of the value assigned to it. The data type of a variable can even be changed after it has been assigned. The [type()](https://www.w3schools.com/python/ref_func_type.asp) function can be used to check the data type of variables"
      ],
      "metadata": {
        "id": "Rt81DMI9n81D"
      }
    },
    {
      "cell_type": "code",
      "source": [
        "# Printing variable types\n",
        "\n",
        "print(type(a))\n",
        "print(type(x))\n",
        "print(type(y))\n",
        "print(type(z))"
      ],
      "metadata": {
        "id": "vA9AzzOwpDP5",
        "colab": {
          "base_uri": "https://localhost:8080/"
        },
        "outputId": "4d6fcd70-f368-4da5-8646-175d95d75643"
      },
      "execution_count": null,
      "outputs": [
        {
          "output_type": "stream",
          "name": "stdout",
          "text": [
            "<class 'int'>\n",
            "<class 'float'>\n",
            "<class 'str'>\n",
            "<class 'bool'>\n"
          ]
        }
      ]
    },
    {
      "cell_type": "markdown",
      "source": [
        "Variables can have different combinations of user defined names. Variables are mostly defined to describe the value they contain. There are certain rules to naming variables:\n",
        "\n",
        "\n",
        "*   Must start with a letter or the underscore character\n",
        "*   Cannot start with a number\n",
        "*   Can only contain alphanumeric characters and underscores (A-Z, 0-9, _)\n",
        "*   Are case sensitive\n",
        "\n"
      ],
      "metadata": {
        "id": "BP94QaQwp6PV"
      }
    },
    {
      "cell_type": "markdown",
      "source": [
        "Allowed examples:"
      ],
      "metadata": {
        "id": "Ufo5wqS7rWp1"
      }
    },
    {
      "cell_type": "code",
      "source": [
        "# Assigning legal variables\n",
        "\n",
        "model = 'Honda'\n",
        "Model = 'Mazda'\n",
        "model_EU = 'Ferrari'\n",
        "_model_NA2 = 'GMC'\n",
        "MODEL = 'Tesla'\n",
        "\n",
        "print(model)\n",
        "print(Model)\n",
        "print(MODEL)"
      ],
      "metadata": {
        "id": "-o-sGZRsqleh",
        "colab": {
          "base_uri": "https://localhost:8080/"
        },
        "outputId": "4484523d-2da4-4fec-c47b-c9019edf8238"
      },
      "execution_count": null,
      "outputs": [
        {
          "output_type": "stream",
          "name": "stdout",
          "text": [
            "Honda\n",
            "Mazda\n",
            "Tesla\n"
          ]
        }
      ]
    },
    {
      "cell_type": "code",
      "source": [
        "# Printing legal variables\n",
        "\n",
        "print(model)\n",
        "print(Model)\n",
        "print(model_EU)\n",
        "print(_model_NA2)\n",
        "print(MODEL)"
      ],
      "metadata": {
        "id": "niXGVYoIqlb7",
        "colab": {
          "base_uri": "https://localhost:8080/"
        },
        "outputId": "7f9e5491-7ea1-48b7-e790-73796f647339"
      },
      "execution_count": null,
      "outputs": [
        {
          "output_type": "stream",
          "name": "stdout",
          "text": [
            "Honda\n",
            "Mazda\n",
            "Ferrari\n",
            "GMC\n",
            "Tesla\n"
          ]
        }
      ]
    },
    {
      "cell_type": "markdown",
      "source": [
        "Wrong examples:"
      ],
      "metadata": {
        "id": "uzMhpoaurZYL"
      }
    },
    {
      "cell_type": "code",
      "source": [
        "# Try to assign an illegal variable\n",
        "\n",
        "2model = 'Buick'"
      ],
      "metadata": {
        "id": "l8qXsEmlrfbL",
        "colab": {
          "base_uri": "https://localhost:8080/",
          "height": 130
        },
        "outputId": "00de16e4-a0aa-416f-9454-75270de4224d"
      },
      "execution_count": null,
      "outputs": [
        {
          "output_type": "error",
          "ename": "SyntaxError",
          "evalue": "ignored",
          "traceback": [
            "\u001b[0;36m  File \u001b[0;32m\"<ipython-input-147-ccde7cc5fdd0>\"\u001b[0;36m, line \u001b[0;32m3\u001b[0m\n\u001b[0;31m    2model = 'Buick'\u001b[0m\n\u001b[0m     ^\u001b[0m\n\u001b[0;31mSyntaxError\u001b[0m\u001b[0;31m:\u001b[0m invalid syntax\n"
          ]
        }
      ]
    },
    {
      "cell_type": "code",
      "source": [
        "# Try to assign an illegal variable\n",
        "\n",
        "model-NA = 'Ford'"
      ],
      "metadata": {
        "id": "3FyRSk6drx9D",
        "colab": {
          "base_uri": "https://localhost:8080/",
          "height": 130
        },
        "outputId": "7f918dfb-14cc-4be9-95e6-5b122789d4f1"
      },
      "execution_count": null,
      "outputs": [
        {
          "output_type": "error",
          "ename": "SyntaxError",
          "evalue": "ignored",
          "traceback": [
            "\u001b[0;36m  File \u001b[0;32m\"<ipython-input-148-0544c8c9d34d>\"\u001b[0;36m, line \u001b[0;32m3\u001b[0m\n\u001b[0;31m    model-NA = 'Ford'\u001b[0m\n\u001b[0m    ^\u001b[0m\n\u001b[0;31mSyntaxError\u001b[0m\u001b[0;31m:\u001b[0m cannot assign to operator\n"
          ]
        }
      ]
    },
    {
      "cell_type": "code",
      "source": [
        "# Try to assign an illegal variable\n",
        "\n",
        "model SEA = 'Nissan'"
      ],
      "metadata": {
        "id": "XV2KUEEvryqY",
        "colab": {
          "base_uri": "https://localhost:8080/",
          "height": 130
        },
        "outputId": "5d004b3a-be8c-4f0d-dbdd-fbad01cd99e8"
      },
      "execution_count": null,
      "outputs": [
        {
          "output_type": "error",
          "ename": "SyntaxError",
          "evalue": "ignored",
          "traceback": [
            "\u001b[0;36m  File \u001b[0;32m\"<ipython-input-149-afa3e95ab892>\"\u001b[0;36m, line \u001b[0;32m3\u001b[0m\n\u001b[0;31m    model SEA = 'Nissan'\u001b[0m\n\u001b[0m          ^\u001b[0m\n\u001b[0;31mSyntaxError\u001b[0m\u001b[0;31m:\u001b[0m invalid syntax\n"
          ]
        }
      ]
    },
    {
      "cell_type": "markdown",
      "source": [
        "**Practice - Assigning variables**\n",
        "\n",
        "Assign the following data values to relevant variables and print them using Python. The first one has been shown as an example.\n",
        "\n",
        "\n",
        "*   Canada\n",
        "*   Ontario\n",
        "*   Toronto\n",
        "*   M5B1T3\n",
        "*   6475884206"
      ],
      "metadata": {
        "id": "xZQDB--qsFAI"
      }
    },
    {
      "cell_type": "code",
      "source": [
        "country = 'Canada'\n",
        "print(country)\n",
        "\n",
        "#Your code here --\n",
        "\n",
        "country = 'Canada'\n",
        "province = 'Ontario'\n",
        "city = 'Toronto'\n",
        "postal_code = 'M5B1T3'\n",
        "phone_number = '6475884206' # number or string?\n",
        "\n",
        "print(country)\n",
        "print(province)\n",
        "print(city)\n",
        "print(postal_code)\n",
        "print(phone_number)\n",
        "\n",
        "print(province, city, country, postal_code, phone_number)"
      ],
      "metadata": {
        "id": "iPtrE9NltS-M"
      },
      "execution_count": null,
      "outputs": []
    },
    {
      "cell_type": "markdown",
      "source": [
        "## Data types"
      ],
      "metadata": {
        "id": "xlGSGcrusPjb"
      }
    },
    {
      "cell_type": "markdown",
      "source": [
        "So far you have seen variables store different kinds of information (numbers, text, True/False). These all represent different ***data types***.\n",
        "\n",
        "Data types are a core component of any programming language. Data values can be of different types and have different uses. Since variables store data values, they take on the data type of the assigned values as seen in the example before."
      ],
      "metadata": {
        "id": "WsYdj-73to1C"
      }
    },
    {
      "cell_type": "markdown",
      "source": [
        "Python has different built-in data types but the most commonly used ones are:\n",
        "\n",
        "* Text:      `str`\n",
        "* Number:    `int`, `float`\n",
        "* Sequence:  `list`,`tuple`,`range`\n",
        "* Dictionary:   `dict`\n",
        "* Set:       `set`\n",
        "* Boolean:   `bool`\n",
        "* None:      `None`\n",
        "\n",
        "We will explore these data types later"
      ],
      "metadata": {
        "id": "gXbcUSl5t6TJ"
      }
    },
    {
      "cell_type": "code",
      "source": [
        "# Assigning different types of data to variables\n",
        "\n",
        "text_test = 'This is a string'\n",
        "num_test = 123456\n",
        "seq_test = [1,2,3,'abc', True]  # list\n",
        "dict_test = {'Fruit': 'Apple', 'Color': 'Red', 'Price': 3.65}\n",
        "dict_test2 = {'Hat': 'a thing you wear on your head sometimes', 'Cat': 'an animal that some people like.'}\n",
        "set_test = {'chocolate', 'maple', 'coffee'}  # skip\n",
        "bool_test = True  # true or false\n",
        "none_test = None"
      ],
      "metadata": {
        "id": "W9gEyPiCtoNV"
      },
      "execution_count": null,
      "outputs": []
    },
    {
      "cell_type": "markdown",
      "source": [
        "**String** type data is assigned by wrapping the data with single quotes, double quotes or triple quotes. This data type is used to store text data."
      ],
      "metadata": {
        "id": "GI4ootxi8zge"
      }
    },
    {
      "cell_type": "code",
      "source": [
        "# Printing string variable data and type\n",
        "print(text_test)\n",
        "print(type(text_test))"
      ],
      "metadata": {
        "id": "pWeQqP-QwNbR",
        "colab": {
          "base_uri": "https://localhost:8080/"
        },
        "outputId": "59252640-9497-476f-ed4a-daadbf794375"
      },
      "execution_count": null,
      "outputs": [
        {
          "output_type": "stream",
          "name": "stdout",
          "text": [
            "This is a string\n",
            "<class 'str'>\n"
          ]
        }
      ]
    },
    {
      "cell_type": "markdown",
      "source": [
        "**Numeric** type data can be decimals, whole numbers and complex numbers. We will focus on decimals and whole numbers. This data type is used to store numeric data. "
      ],
      "metadata": {
        "id": "6DdLlLvd89_d"
      }
    },
    {
      "cell_type": "code",
      "source": [
        "# Printing numeric variable data and type\n",
        "\n",
        "print(num_test)\n",
        "print(type(num_test))"
      ],
      "metadata": {
        "id": "xXFpPjAtwNWY",
        "colab": {
          "base_uri": "https://localhost:8080/"
        },
        "outputId": "974f3ab5-77e5-436b-c761-323e391c2f69"
      },
      "execution_count": null,
      "outputs": [
        {
          "output_type": "stream",
          "name": "stdout",
          "text": [
            "123456\n",
            "<class 'int'>\n"
          ]
        }
      ]
    },
    {
      "cell_type": "markdown",
      "source": [
        "**Sequence** type data stores multiple data values in a sequence. The contained data values can be any of the valid data types of Python. This data type is used to store data values with a sequential index."
      ],
      "metadata": {
        "id": "AT_m-O9r-BAk"
      }
    },
    {
      "cell_type": "code",
      "source": [
        "# Printing sequence variable data and type \n",
        "\n",
        "print(seq_test)\n",
        "print(type(seq_test))"
      ],
      "metadata": {
        "id": "uVq2J2qVwNSE",
        "colab": {
          "base_uri": "https://localhost:8080/"
        },
        "outputId": "63257eb6-ea3d-4eb2-9bfc-064fb4305c61"
      },
      "execution_count": null,
      "outputs": [
        {
          "output_type": "stream",
          "name": "stdout",
          "text": [
            "[1, 2, 3, 'abc', True]\n",
            "<class 'list'>\n"
          ]
        }
      ]
    },
    {
      "cell_type": "code",
      "source": [
        "# see section on lists"
      ],
      "metadata": {
        "id": "4O_hkUrfPD_-"
      },
      "execution_count": null,
      "outputs": []
    },
    {
      "cell_type": "markdown",
      "source": [
        "**Dictionary** type data can store multiple values with a user defined index. This data type is used to store values with an index and are stored as key:value pairs."
      ],
      "metadata": {
        "id": "i7NoytOEB781"
      }
    },
    {
      "cell_type": "code",
      "source": [
        "# Printing dict variable data and type\n",
        "print(dict_test)\n",
        "print(type(dict_test))"
      ],
      "metadata": {
        "id": "okVt-FhawNIT",
        "colab": {
          "base_uri": "https://localhost:8080/"
        },
        "outputId": "5e29e8f7-4750-4017-8984-c6e16129e289"
      },
      "execution_count": null,
      "outputs": [
        {
          "output_type": "stream",
          "name": "stdout",
          "text": [
            "{'Fruit': 'Apple', 'Color': 'Red', 'Price': 3.65}\n",
            "<class 'dict'>\n"
          ]
        }
      ]
    },
    {
      "cell_type": "markdown",
      "source": [
        "**Set** type data can store multiple unique values. They are used to store multiple unique data values."
      ],
      "metadata": {
        "id": "v8Es5lhwCzro"
      }
    },
    {
      "cell_type": "code",
      "source": [
        "# Printing set variable data and type \n",
        "print(set_test)\n",
        "print(type(set_test))"
      ],
      "metadata": {
        "id": "_vFK_8SAwfHa",
        "colab": {
          "base_uri": "https://localhost:8080/"
        },
        "outputId": "25806f47-4d7b-48c6-88a6-909b1b52f8aa"
      },
      "execution_count": null,
      "outputs": [
        {
          "output_type": "stream",
          "name": "stdout",
          "text": [
            "{'maple', 'chocolate', 'coffee'}\n",
            "<class 'set'>\n"
          ]
        }
      ]
    },
    {
      "cell_type": "markdown",
      "source": [
        "**Boolean** type data can store only two values in duality. This data type is used to store data with only two possible values. \n",
        "\n",
        "Eg: True/False, 0/1"
      ],
      "metadata": {
        "id": "f2fMTVOBEJRw"
      }
    },
    {
      "cell_type": "code",
      "source": [
        "# Printing boolean variable data and type \n",
        "\n",
        "print(bool_test)\n",
        "print(type(bool_test))"
      ],
      "metadata": {
        "id": "G5fCy4zXwE7y",
        "colab": {
          "base_uri": "https://localhost:8080/"
        },
        "outputId": "606e15b6-cc39-4582-8519-39e41aa272ec"
      },
      "execution_count": null,
      "outputs": [
        {
          "output_type": "stream",
          "name": "stdout",
          "text": [
            "True\n",
            "<class 'bool'>\n"
          ]
        }
      ]
    },
    {
      "cell_type": "markdown",
      "source": [
        "**None** data type stores no value. It is the Python equivalent for the null data where no data is present. Note that text data, including a whitespace (pressing space bar), is considered a string data type and is not a None data type. We did not use quotes to define the None type.\n",
        "\n",
        "None data type is the data type of a variable which has been defined but does not contain any value."
      ],
      "metadata": {
        "id": "jAX0v_H_w0__"
      }
    },
    {
      "cell_type": "code",
      "source": [
        "# Printing none variable data and type\n",
        "\n",
        "print(none_test)\n",
        "print(type(none_test))"
      ],
      "metadata": {
        "id": "yPehjWwEGGyz",
        "colab": {
          "base_uri": "https://localhost:8080/"
        },
        "outputId": "28f47777-88d2-473a-9e68-57a4f25f8608"
      },
      "execution_count": null,
      "outputs": [
        {
          "output_type": "stream",
          "name": "stdout",
          "text": [
            "None\n",
            "<class 'NoneType'>\n"
          ]
        }
      ]
    },
    {
      "cell_type": "markdown",
      "source": [
        "## Number types"
      ],
      "metadata": {
        "id": "zoC-CKJntIo3"
      }
    },
    {
      "cell_type": "markdown",
      "source": [
        "We will focus on two different numeric types:\n",
        "\n",
        "* int = whole numbers, positive or negative, without decimals\n",
        " * Example: 1, 10, 44, 256\n",
        "\n",
        "* float = floating point numbers, positive or negative, with decimals\n",
        " * Example: 1.4, 52.53, 764.6343"
      ],
      "metadata": {
        "id": "FCz42FFzNPAL"
      }
    },
    {
      "cell_type": "code",
      "source": [
        "# Testing int data type\n",
        "\n",
        "x = 1123\n",
        "\n",
        "print(x)\n",
        "type(x)"
      ],
      "metadata": {
        "id": "FvJjlbmfcabx",
        "colab": {
          "base_uri": "https://localhost:8080/"
        },
        "outputId": "94264e13-04aa-4b67-e40d-ba87633ffc5b"
      },
      "execution_count": null,
      "outputs": [
        {
          "output_type": "stream",
          "name": "stdout",
          "text": [
            "1123\n"
          ]
        },
        {
          "output_type": "execute_result",
          "data": {
            "text/plain": [
              "int"
            ]
          },
          "metadata": {},
          "execution_count": 162
        }
      ]
    },
    {
      "cell_type": "code",
      "source": [
        "# Testing float data type\n",
        "\n",
        "x = 121.123\n",
        "\n",
        "print(x)\n",
        "type(x)"
      ],
      "metadata": {
        "id": "UN_9nzxMce_O",
        "colab": {
          "base_uri": "https://localhost:8080/"
        },
        "outputId": "8765771d-3be7-4ed6-c9a7-82011782b271"
      },
      "execution_count": null,
      "outputs": [
        {
          "output_type": "stream",
          "name": "stdout",
          "text": [
            "121.123\n"
          ]
        },
        {
          "output_type": "execute_result",
          "data": {
            "text/plain": [
              "float"
            ]
          },
          "metadata": {},
          "execution_count": 164
        }
      ]
    },
    {
      "cell_type": "code",
      "source": [
        "x = 123.0\n",
        "\n",
        "print(x)\n",
        "type(x)"
      ],
      "metadata": {
        "id": "wytk_avyQn-j",
        "colab": {
          "base_uri": "https://localhost:8080/"
        },
        "outputId": "e95f9009-709d-4902-cdf6-b8a45980e530"
      },
      "execution_count": null,
      "outputs": [
        {
          "output_type": "stream",
          "name": "stdout",
          "text": [
            "123.0\n"
          ]
        },
        {
          "output_type": "execute_result",
          "data": {
            "text/plain": [
              "float"
            ]
          },
          "metadata": {},
          "execution_count": 165
        }
      ]
    },
    {
      "cell_type": "markdown",
      "source": [
        "## Strings"
      ],
      "metadata": {
        "id": "Hsn2FdZHcnmV"
      }
    },
    {
      "cell_type": "markdown",
      "source": [
        "String is a data type that can store any data value as a text. They are defined by placing the data value within a single quote, double quote or triple quote depending on the scenario"
      ],
      "metadata": {
        "id": "9yQ17Bz7c1bi"
      }
    },
    {
      "cell_type": "markdown",
      "source": [
        "Regardless of which quotes you use, the resultant value will be the same"
      ],
      "metadata": {
        "id": "OMCG3FJ7dT-z"
      }
    },
    {
      "cell_type": "code",
      "source": [
        "# Single quote test\n",
        "\n",
        "a = 'This is a string'\n",
        "print(a)\n",
        "type(a)"
      ],
      "metadata": {
        "id": "wPyuLEQ3cnAy",
        "colab": {
          "base_uri": "https://localhost:8080/"
        },
        "outputId": "fa2f758b-d146-4db5-bb4b-c7d9ee751f39"
      },
      "execution_count": null,
      "outputs": [
        {
          "output_type": "stream",
          "name": "stdout",
          "text": [
            "This is a string\n"
          ]
        },
        {
          "output_type": "execute_result",
          "data": {
            "text/plain": [
              "str"
            ]
          },
          "metadata": {},
          "execution_count": 166
        }
      ]
    },
    {
      "cell_type": "code",
      "source": [
        "# Double quote test\n",
        "\n",
        "a = \"This is a string\"\n",
        "print(a)\n",
        "type(a)"
      ],
      "metadata": {
        "id": "KNNHBnZmdgGb",
        "colab": {
          "base_uri": "https://localhost:8080/"
        },
        "outputId": "89180457-f021-497b-9c24-5f8910c322db"
      },
      "execution_count": null,
      "outputs": [
        {
          "output_type": "stream",
          "name": "stdout",
          "text": [
            "This is a string\n"
          ]
        },
        {
          "output_type": "execute_result",
          "data": {
            "text/plain": [
              "str"
            ]
          },
          "metadata": {},
          "execution_count": 167
        }
      ]
    },
    {
      "cell_type": "code",
      "source": [
        "# Triple single quote test\n",
        "\n",
        "a = '''This is a string'''\n",
        "print(a)\n",
        "type(a)"
      ],
      "metadata": {
        "id": "JZk9z7Xcdl9c",
        "colab": {
          "base_uri": "https://localhost:8080/"
        },
        "outputId": "55bafd69-df82-4526-b829-3d93d5774b39"
      },
      "execution_count": null,
      "outputs": [
        {
          "output_type": "stream",
          "name": "stdout",
          "text": [
            "This is a string\n"
          ]
        },
        {
          "output_type": "execute_result",
          "data": {
            "text/plain": [
              "str"
            ]
          },
          "metadata": {},
          "execution_count": 168
        }
      ]
    },
    {
      "cell_type": "markdown",
      "source": [
        "### Where to use different quotes"
      ],
      "metadata": {
        "id": "FZvPcfmFd_nN"
      }
    },
    {
      "cell_type": "markdown",
      "source": [
        "**Single quotes**: Can be used anywhere as long as there is no apostrophe in the sentence."
      ],
      "metadata": {
        "id": "w7-v6sHbdwhZ"
      }
    },
    {
      "cell_type": "code",
      "source": [
        "# Testing single quote\n",
        "\n",
        "test = 'This string has no apostrophes'\n",
        "print(test)"
      ],
      "metadata": {
        "id": "8J9flxlgeBXk",
        "colab": {
          "base_uri": "https://localhost:8080/"
        },
        "outputId": "5581ea39-efae-4746-a0fe-e5019021c8ca"
      },
      "execution_count": null,
      "outputs": [
        {
          "output_type": "stream",
          "name": "stdout",
          "text": [
            "This string has no apostrophes\n"
          ]
        }
      ]
    },
    {
      "cell_type": "code",
      "source": [
        "# Testing error scenario\n",
        "\n",
        "test2 = 'This string isn't valid with single quotes'\n",
        "print(test2)"
      ],
      "metadata": {
        "id": "JCw7n3yMeZ3F",
        "colab": {
          "base_uri": "https://localhost:8080/",
          "height": 130
        },
        "outputId": "c49f8876-1fc3-436d-9d54-48b37e2fa476"
      },
      "execution_count": null,
      "outputs": [
        {
          "output_type": "error",
          "ename": "SyntaxError",
          "evalue": "ignored",
          "traceback": [
            "\u001b[0;36m  File \u001b[0;32m\"<ipython-input-170-c140b59f537b>\"\u001b[0;36m, line \u001b[0;32m3\u001b[0m\n\u001b[0;31m    test2 = 'This string isn't valid with single quotes'\u001b[0m\n\u001b[0m                             ^\u001b[0m\n\u001b[0;31mSyntaxError\u001b[0m\u001b[0;31m:\u001b[0m invalid syntax\n"
          ]
        }
      ]
    },
    {
      "cell_type": "markdown",
      "source": [
        "**Double quotes**: Can be used anywhere, even with apostrophes but no double quotations"
      ],
      "metadata": {
        "id": "2geDr0SGeVAA"
      }
    },
    {
      "cell_type": "code",
      "source": [
        "# Testing double quotes\n",
        "\n",
        "test = \"This string isn't going to throw an error\"\n",
        "print(test)"
      ],
      "metadata": {
        "id": "rPNduesBept5",
        "colab": {
          "base_uri": "https://localhost:8080/"
        },
        "outputId": "340d9f69-22b5-4914-cd04-5be115804e15"
      },
      "execution_count": null,
      "outputs": [
        {
          "output_type": "stream",
          "name": "stdout",
          "text": [
            "This string isn't going to throw an error\n"
          ]
        }
      ]
    },
    {
      "cell_type": "code",
      "source": [
        "# Testing error scenario\n",
        "\n",
        "test2 = \"I said, \"This string isn't valid with double quotations\"\"\n",
        "print(test)"
      ],
      "metadata": {
        "id": "Z4KUdMI1ex9W",
        "colab": {
          "base_uri": "https://localhost:8080/",
          "height": 130
        },
        "outputId": "d66ad5c4-d1af-4825-8762-db42fe573342"
      },
      "execution_count": null,
      "outputs": [
        {
          "output_type": "error",
          "ename": "SyntaxError",
          "evalue": "ignored",
          "traceback": [
            "\u001b[0;36m  File \u001b[0;32m\"<ipython-input-172-d30faf13be5e>\"\u001b[0;36m, line \u001b[0;32m3\u001b[0m\n\u001b[0;31m    test2 = \"I said, \"This string isn't valid with double quotations\"\"\u001b[0m\n\u001b[0m                      ^\u001b[0m\n\u001b[0;31mSyntaxError\u001b[0m\u001b[0;31m:\u001b[0m invalid syntax\n"
          ]
        }
      ]
    },
    {
      "cell_type": "markdown",
      "source": [
        "**Triple quotes**: Can be used anywhere, even with apostrophes or double quotes. Can also be used for multiline strings."
      ],
      "metadata": {
        "id": "w6IoHdCpe_YE"
      }
    },
    {
      "cell_type": "code",
      "source": [
        "# Testing triple quotes\n",
        "\n",
        "test1 = '''\"This string isn't going to throw an error\", I said'''\n",
        "print(test1)"
      ],
      "metadata": {
        "id": "xA99p3pJfHnG",
        "colab": {
          "base_uri": "https://localhost:8080/"
        },
        "outputId": "09e56c29-edc0-4717-e841-8397a9f38386"
      },
      "execution_count": null,
      "outputs": [
        {
          "output_type": "stream",
          "name": "stdout",
          "text": [
            "\"This string isn't going to throw an error\", I said\n"
          ]
        }
      ]
    },
    {
      "cell_type": "code",
      "source": [
        "# Testing triple quotes with multiline string\n",
        "\n",
        "test2 = '''\"My dog stepped on a bee\",\n",
        "she said.'''\n",
        "\n",
        "print(test2)\n",
        "\n",
        "# Notice how the line break occurs according to how you have defined it in the value"
      ],
      "metadata": {
        "id": "GOa9ntWVfS46",
        "colab": {
          "base_uri": "https://localhost:8080/"
        },
        "outputId": "d651f43a-5230-4b2c-c813-151f77c78a46"
      },
      "execution_count": null,
      "outputs": [
        {
          "output_type": "stream",
          "name": "stdout",
          "text": [
            "\"My dog stepped on a bee\",\n",
            "she said.\n"
          ]
        }
      ]
    },
    {
      "cell_type": "code",
      "source": [
        "# Testing triple double quotes with multiline string\n",
        "\n",
        "test3 = \"\"\"\"My dog stepped on a bee\",\n",
        "she said.\"\"\"\n",
        "print(test3)"
      ],
      "metadata": {
        "id": "2gN4M5gxftzy",
        "colab": {
          "base_uri": "https://localhost:8080/"
        },
        "outputId": "1b4e471d-8c95-46c1-a190-0c30f580c83c"
      },
      "execution_count": null,
      "outputs": [
        {
          "output_type": "stream",
          "name": "stdout",
          "text": [
            "\"My dog stepped on a bee\",\n",
            "she said.\n"
          ]
        }
      ]
    },
    {
      "cell_type": "markdown",
      "source": [
        "**Practice** (Optional)\n",
        "\n",
        "Assign the following values to appropriate variables as string and print them:\n",
        "\n",
        "\n",
        "\n",
        "*   The weather today was hot\n",
        "*   'The weather today was hot', he said\n",
        "* \"The weather's hot today\", she said\n",
        "* 30 (Temperature value)\n",
        "\n"
      ],
      "metadata": {
        "id": "I9Kw1ehfgYbi"
      }
    },
    {
      "cell_type": "code",
      "source": [
        "# Write your code here\n",
        "\n",
        "weather2 = '\"The weather\\'s hot today\", she said'\n",
        "weather3 = '\"The weather today was hot\", he said'"
      ],
      "metadata": {
        "id": "JklYZS_KseLb"
      },
      "execution_count": null,
      "outputs": []
    },
    {
      "cell_type": "markdown",
      "source": [
        "## Switching Data Types"
      ],
      "metadata": {
        "id": "lQ1ng0FBtLl5"
      }
    },
    {
      "cell_type": "markdown",
      "source": [
        "You may need to change the data types of variables depending on the requirement. For example, a price value might be stored as a text data type during entry but for calculations, you would need it to be in a numeric data type.\n",
        "\n",
        "In Python, you can use **casting** to change the data type. Casting is performed by wrapping the data variable/value you want to change with the target data type casting function."
      ],
      "metadata": {
        "id": "IYMX9EXIHIwf"
      }
    },
    {
      "cell_type": "code",
      "source": [
        "thisisanumber = '456'\n",
        "\n",
        "print(thisisanumber*2)"
      ],
      "metadata": {
        "id": "eDjmDZLbvGBH",
        "colab": {
          "base_uri": "https://localhost:8080/"
        },
        "outputId": "76dbe4d3-7fed-4698-8231-44f67c242b83"
      },
      "execution_count": null,
      "outputs": [
        {
          "output_type": "stream",
          "name": "stdout",
          "text": [
            "456456\n"
          ]
        }
      ]
    },
    {
      "cell_type": "code",
      "source": [
        "# Casting to string changes a given value to a text data type\n",
        "\n",
        "test = 123\n",
        "string_test = str(test)\n",
        "\n",
        "print(string_test)\n",
        "print(type(string_test))\n"
      ],
      "metadata": {
        "id": "RnpJFkSgIbMI",
        "colab": {
          "base_uri": "https://localhost:8080/"
        },
        "outputId": "efa255e2-fb7b-40c1-c1d7-cfaf71865e60"
      },
      "execution_count": null,
      "outputs": [
        {
          "output_type": "stream",
          "name": "stdout",
          "text": [
            "123\n",
            "<class 'str'>\n"
          ]
        }
      ]
    },
    {
      "cell_type": "code",
      "source": [
        "# Casting to integer changes any given number to a whole number. \n",
        "# If the given number has decimal values, the decimals will be removed\n",
        "# Strings can be converted to integers given that the string only contains whole numbers\n",
        "\n",
        "test = '123'\n",
        "int_test = int(test)\n",
        "\n",
        "print(int_test)\n",
        "print(type(int_test))\n"
      ],
      "metadata": {
        "id": "hfb3PJplIx-B",
        "colab": {
          "base_uri": "https://localhost:8080/"
        },
        "outputId": "d23d4b94-0151-411d-937a-d30dda4c4707"
      },
      "execution_count": null,
      "outputs": [
        {
          "output_type": "stream",
          "name": "stdout",
          "text": [
            "123\n",
            "<class 'int'>\n"
          ]
        }
      ]
    },
    {
      "cell_type": "code",
      "source": [
        "# Casting to float changes any given number to a float number.\n",
        "# Note that a float number is different from a decimal number.\n",
        "# Float numbers store approximate values. Use case includes scientific measurements.\n",
        "# Decimal numbers store exact values. Use case includes monetary values.\n",
        "\n",
        "test = '65.3'\n",
        "float_test = float(test)\n",
        "\n",
        "print(float_test)\n",
        "print(type(float_test))"
      ],
      "metadata": {
        "id": "sKuFi7c_pIvb",
        "colab": {
          "base_uri": "https://localhost:8080/"
        },
        "outputId": "edb4504b-c85b-4850-9172-c65dcd61c05a"
      },
      "execution_count": null,
      "outputs": [
        {
          "output_type": "stream",
          "name": "stdout",
          "text": [
            "65.3\n",
            "<class 'float'>\n"
          ]
        }
      ]
    },
    {
      "cell_type": "code",
      "source": [
        "# Why would I go from an integer to a float?\n",
        "age = 6\n",
        "\n",
        "half_my_age = int(age) / 2\n",
        "\n",
        "print(half_my_age)\n",
        "print(type(half_my_age))"
      ],
      "metadata": {
        "id": "B0EloZKITVgI",
        "colab": {
          "base_uri": "https://localhost:8080/"
        },
        "outputId": "aff1cc7a-d3bf-4d7c-9b44-357461dcd09d"
      },
      "execution_count": null,
      "outputs": [
        {
          "output_type": "stream",
          "name": "stdout",
          "text": [
            "3.0\n",
            "<class 'float'>\n"
          ]
        }
      ]
    },
    {
      "cell_type": "markdown",
      "source": [
        "## Operators"
      ],
      "metadata": {
        "id": "QTaQMDQZ9bHG"
      }
    },
    {
      "cell_type": "markdown",
      "source": [
        "Operators are characters or words reserved by Python to perform a specific operation between variables and values. Operators and operands work together to produce a result value.\n"
      ],
      "metadata": {
        "id": "wLCNQesf9pvg"
      }
    },
    {
      "cell_type": "markdown",
      "source": [
        "## Arithmetic Operators"
      ],
      "metadata": {
        "id": "9kCFvb_-10rd"
      }
    },
    {
      "cell_type": "markdown",
      "source": [
        "| Operators   | Description |\n",
        "| ----------- | ----------- |\n",
        "| +           | Sum         |\n",
        "| -           | Difference  |\n",
        "| *           | Product     |\n",
        "| /           | Division    |\n",
        "| %           | Remainder   |\n",
        "| **          | Power       |\n",
        "| //          | Floor division |"
      ],
      "metadata": {
        "id": "4tz1vooh12Oz"
      }
    },
    {
      "cell_type": "markdown",
      "source": [
        "### Sum"
      ],
      "metadata": {
        "id": "RpWaFHPr78BO"
      }
    },
    {
      "cell_type": "code",
      "source": [
        "x = 4\n",
        "y = 5\n",
        "\n",
        "x + y"
      ],
      "metadata": {
        "id": "XzI72OHw79_A",
        "colab": {
          "base_uri": "https://localhost:8080/"
        },
        "outputId": "efd00d7f-fa24-4d46-9c8d-eb90b087210e"
      },
      "execution_count": null,
      "outputs": [
        {
          "output_type": "execute_result",
          "data": {
            "text/plain": [
              "9"
            ]
          },
          "metadata": {},
          "execution_count": 183
        }
      ]
    },
    {
      "cell_type": "markdown",
      "source": [
        "### Difference"
      ],
      "metadata": {
        "id": "vDXB7RmQ8D-Y"
      }
    },
    {
      "cell_type": "code",
      "source": [
        "x = 16\n",
        "y = 8\n",
        "\n",
        "x - y"
      ],
      "metadata": {
        "id": "oQTDYvGX8DHq",
        "colab": {
          "base_uri": "https://localhost:8080/"
        },
        "outputId": "bf2a54af-aacf-4c16-d259-e40e60b3ed84"
      },
      "execution_count": null,
      "outputs": [
        {
          "output_type": "execute_result",
          "data": {
            "text/plain": [
              "8"
            ]
          },
          "metadata": {},
          "execution_count": 184
        }
      ]
    },
    {
      "cell_type": "markdown",
      "source": [
        "### Product"
      ],
      "metadata": {
        "id": "Vd1PF7Ow8MR2"
      }
    },
    {
      "cell_type": "code",
      "source": [
        "x = 4\n",
        "y = 5\n",
        "\n",
        "x * y"
      ],
      "metadata": {
        "id": "utc4BwX_8NI_",
        "colab": {
          "base_uri": "https://localhost:8080/"
        },
        "outputId": "1d3fbbec-7dea-4908-e889-453170e99f9b"
      },
      "execution_count": null,
      "outputs": [
        {
          "output_type": "execute_result",
          "data": {
            "text/plain": [
              "20"
            ]
          },
          "metadata": {},
          "execution_count": 185
        }
      ]
    },
    {
      "cell_type": "markdown",
      "source": [
        "### Division"
      ],
      "metadata": {
        "id": "Dr5dJ9HU8Nn2"
      }
    },
    {
      "cell_type": "code",
      "source": [
        "x = 15\n",
        "y = 4\n",
        "\n",
        "x / y"
      ],
      "metadata": {
        "id": "ig1KJA_P8N-C",
        "colab": {
          "base_uri": "https://localhost:8080/"
        },
        "outputId": "7e78b19f-d185-4f33-b317-8178ff208edc"
      },
      "execution_count": null,
      "outputs": [
        {
          "output_type": "execute_result",
          "data": {
            "text/plain": [
              "3.75"
            ]
          },
          "metadata": {},
          "execution_count": 186
        }
      ]
    },
    {
      "cell_type": "markdown",
      "source": [
        "### Remainder"
      ],
      "metadata": {
        "id": "8emg8V-p8XxQ"
      }
    },
    {
      "cell_type": "code",
      "source": [
        "x = 10\n",
        "y = 4\n",
        "\n",
        "x % y"
      ],
      "metadata": {
        "id": "MZcu6as18gl5",
        "colab": {
          "base_uri": "https://localhost:8080/"
        },
        "outputId": "946f4b0e-711a-4a18-d525-5c1d6c6ef897"
      },
      "execution_count": null,
      "outputs": [
        {
          "output_type": "execute_result",
          "data": {
            "text/plain": [
              "2"
            ]
          },
          "metadata": {},
          "execution_count": 187
        }
      ]
    },
    {
      "cell_type": "markdown",
      "source": [
        "### Power"
      ],
      "metadata": {
        "id": "ibO6tF3m8074"
      }
    },
    {
      "cell_type": "code",
      "source": [
        "x = 4\n",
        "y = 2\n",
        "\n",
        "x ** y # x^y"
      ],
      "metadata": {
        "id": "EM0m2q0O82By",
        "colab": {
          "base_uri": "https://localhost:8080/"
        },
        "outputId": "dc238230-ea33-483e-98de-b1614234b5fc"
      },
      "execution_count": null,
      "outputs": [
        {
          "output_type": "execute_result",
          "data": {
            "text/plain": [
              "16"
            ]
          },
          "metadata": {},
          "execution_count": 189
        }
      ]
    },
    {
      "cell_type": "markdown",
      "source": [
        "### Floor division"
      ],
      "metadata": {
        "id": "9uUQbwOz842s"
      }
    },
    {
      "cell_type": "code",
      "source": [
        "x = 15\n",
        "y = 4\n",
        "\n",
        "print(x / y)\n",
        "print(x // y)"
      ],
      "metadata": {
        "id": "pcivIRfK86RG",
        "colab": {
          "base_uri": "https://localhost:8080/"
        },
        "outputId": "cecc4e03-1221-4a22-8138-9657b0369f9a"
      },
      "execution_count": null,
      "outputs": [
        {
          "output_type": "stream",
          "name": "stdout",
          "text": [
            "3.75\n",
            "3\n"
          ]
        }
      ]
    },
    {
      "cell_type": "markdown",
      "source": [
        "## Assignment Operators"
      ],
      "metadata": {
        "id": "fpTYeZP_3Mwi"
      }
    },
    {
      "cell_type": "markdown",
      "source": [
        "| Operators   | Example     | Equivalency |\n",
        "| ----------- | ----------- |------------ | \n",
        "| =           | x = 5       | x = 5       |\n",
        "| +=          | x += 5      | x = x + 5   | \n",
        "| -=          | x -= 5      | x = x - 5   |\n",
        "| *=          | x *= 5      | x = x * 5   |\n",
        "| /           | x /= 5      | x = x / 5   |\n",
        "| %           | x //= 5     | x = x // 5  |\n",
        "| **          | x **= 5     | x = x ** 5  |"
      ],
      "metadata": {
        "id": "r6ADwqJM3b5U"
      }
    },
    {
      "cell_type": "code",
      "source": [
        "x = 15\n",
        "print(x)\n",
        "\n",
        "x *= 5\n",
        "\n",
        "print(x)"
      ],
      "metadata": {
        "id": "kT53GF901ZL-",
        "colab": {
          "base_uri": "https://localhost:8080/"
        },
        "outputId": "1b6224b3-1d8d-4440-aeac-b26332c9e5d2"
      },
      "execution_count": null,
      "outputs": [
        {
          "output_type": "stream",
          "name": "stdout",
          "text": [
            "15\n",
            "75\n"
          ]
        }
      ]
    },
    {
      "cell_type": "markdown",
      "source": [
        "## Comparison operators"
      ],
      "metadata": {
        "id": "ZCO2U27y5BwM"
      }
    },
    {
      "cell_type": "markdown",
      "source": [
        "| Operators   | Name     | Example |\n",
        "| ----------- | ----------- |------------ | \n",
        "| ==           | Equal      | x == y       |\n",
        "| !=          | Not equal      | x != y  | \n",
        "| >          | Greater than      | x > y   |\n",
        "| <          | Less than      | x < y   |\n",
        "| >=           | Greater than or equal to      | x >= y   |\n",
        "| <=          | Less than or equal to    | x <= y  |"
      ],
      "metadata": {
        "id": "E5xF5gFB5Esf"
      }
    },
    {
      "cell_type": "code",
      "source": [
        "3 >= 4"
      ],
      "metadata": {
        "id": "HREo42LWt6Kd",
        "colab": {
          "base_uri": "https://localhost:8080/"
        },
        "outputId": "677c59fa-74e1-4b25-8efa-b182106c90a3"
      },
      "execution_count": null,
      "outputs": [
        {
          "output_type": "execute_result",
          "data": {
            "text/plain": [
              "False"
            ]
          },
          "metadata": {},
          "execution_count": 192
        }
      ]
    },
    {
      "cell_type": "code",
      "source": [
        "10 == 5*2"
      ],
      "metadata": {
        "id": "6RMXAD7St74p",
        "colab": {
          "base_uri": "https://localhost:8080/"
        },
        "outputId": "9f303fc7-0ed9-4662-9f07-38d594bf9835"
      },
      "execution_count": null,
      "outputs": [
        {
          "output_type": "execute_result",
          "data": {
            "text/plain": [
              "True"
            ]
          },
          "metadata": {},
          "execution_count": 193
        }
      ]
    },
    {
      "cell_type": "code",
      "source": [
        "30 > 0"
      ],
      "metadata": {
        "id": "n41_Gzgjt_EP",
        "colab": {
          "base_uri": "https://localhost:8080/"
        },
        "outputId": "34b1a173-c7e7-4ed5-bb42-81a44dfeeac2"
      },
      "execution_count": null,
      "outputs": [
        {
          "output_type": "execute_result",
          "data": {
            "text/plain": [
              "True"
            ]
          },
          "metadata": {},
          "execution_count": 194
        }
      ]
    },
    {
      "cell_type": "code",
      "source": [
        "# 'hat' is NOT the same type as 3\n",
        "type('hat') != type(3)"
      ],
      "metadata": {
        "id": "hv-sUKbvuBUT",
        "colab": {
          "base_uri": "https://localhost:8080/"
        },
        "outputId": "52bbfce5-fa21-4e1f-8db9-a0cbf063bfb6"
      },
      "execution_count": null,
      "outputs": [
        {
          "output_type": "execute_result",
          "data": {
            "text/plain": [
              "True"
            ]
          },
          "metadata": {},
          "execution_count": 196
        }
      ]
    },
    {
      "cell_type": "code",
      "source": [
        "type('hat') != type('cat')"
      ],
      "metadata": {
        "id": "n9pB0Cb6V-JV",
        "colab": {
          "base_uri": "https://localhost:8080/"
        },
        "outputId": "12695928-af50-4ccc-ec60-c13ecab5d36a"
      },
      "execution_count": null,
      "outputs": [
        {
          "output_type": "execute_result",
          "data": {
            "text/plain": [
              "False"
            ]
          },
          "metadata": {},
          "execution_count": 197
        }
      ]
    },
    {
      "cell_type": "markdown",
      "source": [
        "**Practice** - Write a statement that is False using a comparison operator"
      ],
      "metadata": {
        "id": "8qH1K1DKuIrU"
      }
    },
    {
      "cell_type": "code",
      "source": [
        "# Your code here. i.e. (10 < 4)\n",
        "(10%2) == 1\n",
        "10<12\n",
        "3!=3\n",
        "10 ==2"
      ],
      "metadata": {
        "id": "IFkYAuBxuJ0G",
        "colab": {
          "base_uri": "https://localhost:8080/"
        },
        "outputId": "284979fb-f32e-4979-9dd4-6a03be0cbc9a"
      },
      "execution_count": null,
      "outputs": [
        {
          "output_type": "execute_result",
          "data": {
            "text/plain": [
              "False"
            ]
          },
          "metadata": {},
          "execution_count": 199
        }
      ]
    },
    {
      "cell_type": "markdown",
      "source": [
        "## Logical Operators"
      ],
      "metadata": {
        "id": "ELs1JwO16mue"
      }
    },
    {
      "cell_type": "markdown",
      "source": [
        "| Operator   | Example            | Description  |\n",
        "|---------   | ---------------    | ------------ |\n",
        "| and        | x > 1 and x < 5    |  Returns True if both statements are True |\n",
        "| or         | x > 1 or x < 5     |  Returns True if either statements are True |\n",
        "| not        | not(x > 1 or x < 5)| Returns the opposite of the result, return False if the result is True|"
      ],
      "metadata": {
        "id": "oA2wh36h69Fl"
      }
    },
    {
      "cell_type": "code",
      "source": [
        "x = 5\n",
        "\n",
        "x > 1 and x < 4"
      ],
      "metadata": {
        "colab": {
          "base_uri": "https://localhost:8080/"
        },
        "id": "rBpn4NTcJ_8h",
        "outputId": "9a9d594e-ec7f-4e7f-e5e5-be00fee2f1ec"
      },
      "execution_count": null,
      "outputs": [
        {
          "output_type": "execute_result",
          "data": {
            "text/plain": [
              "False"
            ]
          },
          "metadata": {},
          "execution_count": 200
        }
      ]
    },
    {
      "cell_type": "code",
      "source": [
        "x > 1 or x < 4"
      ],
      "metadata": {
        "colab": {
          "base_uri": "https://localhost:8080/"
        },
        "id": "e7fAycZSKJ63",
        "outputId": "01cc7bdd-b114-4458-a44e-2fcba01fa84b"
      },
      "execution_count": null,
      "outputs": [
        {
          "output_type": "execute_result",
          "data": {
            "text/plain": [
              "True"
            ]
          },
          "metadata": {},
          "execution_count": 201
        }
      ]
    },
    {
      "cell_type": "markdown",
      "source": [
        "## Lists"
      ],
      "metadata": {
        "id": "bfuDEu724gwc"
      }
    },
    {
      "cell_type": "markdown",
      "source": [
        "Lists are sequence data types that store multiple elements of any data type within a variable. They are created with **square brackets**."
      ],
      "metadata": {
        "id": "wzwuXnRFNNKQ"
      }
    },
    {
      "cell_type": "code",
      "source": [
        "# Example of a list\n",
        "\n",
        "list_colors = ['Red', 'Blue', 'Green', 'Black', 'White', 'Red']\n",
        "print(list_colors)\n",
        "type(list_colors)"
      ],
      "metadata": {
        "id": "yZ2DPaK4NqgZ",
        "colab": {
          "base_uri": "https://localhost:8080/"
        },
        "outputId": "c86cbc80-5024-4d43-8f30-3c96752ecf1d"
      },
      "execution_count": null,
      "outputs": [
        {
          "output_type": "stream",
          "name": "stdout",
          "text": [
            "['Red', 'Blue', 'Green', 'Black', 'White', 'Red']\n"
          ]
        },
        {
          "output_type": "execute_result",
          "data": {
            "text/plain": [
              "list"
            ]
          },
          "metadata": {},
          "execution_count": 202
        }
      ]
    },
    {
      "cell_type": "code",
      "source": [
        "list_colors[1]"
      ],
      "metadata": {
        "id": "GXx8nZEhS3as",
        "colab": {
          "base_uri": "https://localhost:8080/",
          "height": 35
        },
        "outputId": "1b114e04-11df-4e78-c0a0-0b1acb5dd675"
      },
      "execution_count": null,
      "outputs": [
        {
          "output_type": "execute_result",
          "data": {
            "text/plain": [
              "'Red'"
            ],
            "application/vnd.google.colaboratory.intrinsic+json": {
              "type": "string"
            }
          },
          "metadata": {},
          "execution_count": 204
        }
      ]
    },
    {
      "cell_type": "markdown",
      "source": [
        "They have the following properties that discern them between the 4 data types that used to store multiple elements of data:\n",
        "\n",
        "* **Indexed**: Lists have a sequential index for each element in it starting from 0 and incrementing by 1 for each element.\n",
        "\n",
        "* **Ordered** : Lists store elements according to their index number.\n",
        "\n",
        "* **Mutable**: Elements inside a list can be changed, added or removed\n",
        "\n",
        "* **Allow duplicates**: Lists allow duplicates of any data value to be stored within the same list."
      ],
      "metadata": {
        "id": "d7WiISk2OB6d"
      }
    },
    {
      "cell_type": "code",
      "source": [
        "# Checking the length of the list\n",
        "len(list_colors)"
      ],
      "metadata": {
        "id": "kEjRGmvmPdLe",
        "colab": {
          "base_uri": "https://localhost:8080/"
        },
        "outputId": "43926cba-efb5-4835-9055-3c7397e1d11d"
      },
      "execution_count": null,
      "outputs": [
        {
          "output_type": "execute_result",
          "data": {
            "text/plain": [
              "6"
            ]
          },
          "metadata": {},
          "execution_count": 205
        }
      ]
    },
    {
      "cell_type": "code",
      "source": [
        "# Can contain different data types, even lists\n",
        "\n",
        "nested_list = ['Earth', 23, True, 56.5, ['Nested list', 1]]\n",
        "\n",
        "nested_list"
      ],
      "metadata": {
        "id": "Nt2TbLqeRG8C",
        "colab": {
          "base_uri": "https://localhost:8080/"
        },
        "outputId": "c4b22b4f-0d08-4241-ce64-abec5dfdda9b"
      },
      "execution_count": null,
      "outputs": [
        {
          "output_type": "execute_result",
          "data": {
            "text/plain": [
              "['Earth', 23, True, 56.5, ['Nested list', 1]]"
            ]
          },
          "metadata": {},
          "execution_count": 206
        }
      ]
    },
    {
      "cell_type": "code",
      "source": [],
      "metadata": {
        "colab": {
          "base_uri": "https://localhost:8080/"
        },
        "id": "M4Gjl7crYxsp",
        "outputId": "bb3c8e8d-da54-490e-8fb5-1b7718ff10e1"
      },
      "execution_count": null,
      "outputs": [
        {
          "output_type": "execute_result",
          "data": {
            "text/plain": [
              "['Nested list', 1]"
            ]
          },
          "metadata": {},
          "execution_count": 208
        }
      ]
    },
    {
      "cell_type": "code",
      "source": [
        "# Retrieving individual element by index\n",
        "\n",
        "print(list_colors)\n",
        "print(list_colors[2])\n",
        "type(list_colors[2])"
      ],
      "metadata": {
        "id": "gTybvfhjaapN",
        "colab": {
          "base_uri": "https://localhost:8080/"
        },
        "outputId": "8050648a-2ac8-448e-de13-01bf3e021e9e"
      },
      "execution_count": null,
      "outputs": [
        {
          "output_type": "stream",
          "name": "stdout",
          "text": [
            "['Red', 'Blue', 'Green', 'Black', 'White', 'Red']\n",
            "Green\n"
          ]
        },
        {
          "output_type": "execute_result",
          "data": {
            "text/plain": [
              "str"
            ]
          },
          "metadata": {},
          "execution_count": 207
        }
      ]
    },
    {
      "cell_type": "code",
      "source": [
        "# Let's take the first three entries\n",
        "list_colors[0:4]"
      ],
      "metadata": {
        "id": "VTgJsXTLvtfD"
      },
      "execution_count": null,
      "outputs": []
    },
    {
      "cell_type": "markdown",
      "source": [
        "Slicing - slicing is not inclusive on the right"
      ],
      "metadata": {
        "id": "Hf3CCq5xX7iH"
      }
    },
    {
      "cell_type": "code",
      "source": [
        "# Exercise nested_list\n",
        "nested_list[4][1]"
      ],
      "metadata": {
        "colab": {
          "base_uri": "https://localhost:8080/"
        },
        "id": "smgeO4GvY-hs",
        "outputId": "2006a075-7fa8-4e28-85a9-95d9346fbf24"
      },
      "execution_count": null,
      "outputs": [
        {
          "output_type": "execute_result",
          "data": {
            "text/plain": [
              "1"
            ]
          },
          "metadata": {},
          "execution_count": 209
        }
      ]
    },
    {
      "cell_type": "markdown",
      "source": [
        "## Tuples"
      ],
      "metadata": {
        "id": "dOubnFRpNFim"
      }
    },
    {
      "cell_type": "markdown",
      "source": [
        "Tuples are sequence data types that store multiple elements of any data type within a variable. They are created with **round brackets**."
      ],
      "metadata": {
        "id": "gotOfRbuR2Df"
      }
    },
    {
      "cell_type": "code",
      "source": [
        "# Example of a tuple\n",
        "\n",
        "tuple_colors = ('Red', 'Blue','Green','Black','White', 'Red')\n",
        "print(tuple_colors)\n",
        "type(tuple_colors)"
      ],
      "metadata": {
        "id": "MPq5pNwrSEHb",
        "colab": {
          "base_uri": "https://localhost:8080/"
        },
        "outputId": "fd492a6b-c365-4afe-973d-99f1fa710c87"
      },
      "execution_count": null,
      "outputs": [
        {
          "output_type": "stream",
          "name": "stdout",
          "text": [
            "('Red', 'Blue', 'Green', 'Black', 'White', 'Red')\n"
          ]
        },
        {
          "output_type": "execute_result",
          "data": {
            "text/plain": [
              "tuple"
            ]
          },
          "metadata": {},
          "execution_count": 211
        }
      ]
    },
    {
      "cell_type": "markdown",
      "source": [
        "They have the following properties that discern them between the 4 data types that used to store multiple elements of data:\n",
        "\n",
        "* **Indexed**: Tuples have a sequential index for each element in it starting from 0 and incrementing by 1 for each element.\n",
        "\n",
        "* **Ordered** : Tuples store elements according to their index number.\n",
        "\n",
        "* **Immutable**: Elements inside a tuple **CANNOT** be changed\n",
        "\n",
        "* **Allow duplicates**: Tuples allow duplicates of any data value to be stored within the same list."
      ],
      "metadata": {
        "id": "KH0BggRvSYh0"
      }
    },
    {
      "cell_type": "code",
      "source": [
        "# Checking the length of the tuple\n",
        "\n",
        "len(tuple_colors)"
      ],
      "metadata": {
        "id": "4IFAsUIuSYh1",
        "colab": {
          "base_uri": "https://localhost:8080/"
        },
        "outputId": "fa6a3623-9793-457a-dbbd-284999667d34"
      },
      "execution_count": null,
      "outputs": [
        {
          "output_type": "execute_result",
          "data": {
            "text/plain": [
              "6"
            ]
          },
          "metadata": {},
          "execution_count": 212
        }
      ]
    },
    {
      "cell_type": "code",
      "source": [
        "# Can contain different data types, even tuples\n",
        "\n",
        "nested_tuple = ('Earth', 23, True, 56.5, ['Nested list', 1],('Tuple',2))\n",
        "\n",
        "nested_tuple"
      ],
      "metadata": {
        "id": "D8j6XS_dSYh2",
        "colab": {
          "base_uri": "https://localhost:8080/"
        },
        "outputId": "15dc35a1-8c96-492a-893a-de80c85f6c91"
      },
      "execution_count": null,
      "outputs": [
        {
          "output_type": "execute_result",
          "data": {
            "text/plain": [
              "('Earth', 23, True, 56.5, ['Nested list', 1], ('Tuple', 2))"
            ]
          },
          "metadata": {},
          "execution_count": 213
        }
      ]
    },
    {
      "cell_type": "code",
      "source": [
        "# Retrieving individual element by index\n",
        "\n",
        "print(nested_tuple[1])\n",
        "type(nested_tuple[1])"
      ],
      "metadata": {
        "id": "jS4vg-gqaTFm",
        "colab": {
          "base_uri": "https://localhost:8080/"
        },
        "outputId": "fcdfa90b-c872-44d3-ffb7-9b297b3cdf50"
      },
      "execution_count": null,
      "outputs": [
        {
          "output_type": "stream",
          "name": "stdout",
          "text": [
            "23\n"
          ]
        },
        {
          "output_type": "execute_result",
          "data": {
            "text/plain": [
              "int"
            ]
          },
          "metadata": {},
          "execution_count": 214
        }
      ]
    },
    {
      "cell_type": "markdown",
      "source": [
        "## Sets"
      ],
      "metadata": {
        "id": "0U3JGHXoNFel"
      }
    },
    {
      "cell_type": "markdown",
      "source": [
        "Sets are sequence data types that store multiple elements of any data type within a variable. They are created with **curly brackets**."
      ],
      "metadata": {
        "id": "qOnT8bpzTdFd"
      }
    },
    {
      "cell_type": "code",
      "source": [
        "# Example of a tuple\n",
        "\n",
        "set_colors = {'Red', 'Blue','Green','Black','White', 'Red'}\n",
        "print(set_colors)\n",
        "type(set_colors)"
      ],
      "metadata": {
        "id": "IF2C7JRoTdFe",
        "colab": {
          "base_uri": "https://localhost:8080/"
        },
        "outputId": "2e87ecd0-f70b-4482-bada-834d3f178c85"
      },
      "execution_count": null,
      "outputs": [
        {
          "output_type": "stream",
          "name": "stdout",
          "text": [
            "{'Black', 'White', 'Green', 'Blue', 'Red'}\n"
          ]
        },
        {
          "output_type": "execute_result",
          "data": {
            "text/plain": [
              "set"
            ]
          },
          "metadata": {},
          "execution_count": 215
        }
      ]
    },
    {
      "cell_type": "markdown",
      "source": [
        "They have the following properties that discern them between the 4 data types that used to store multiple elements of data:\n",
        "\n",
        "* **Not indexed**: Sets store values as a collection without any index\n",
        "\n",
        "* **Unordered** : Since sets do not have indices, they are not ordered and do not have specific positions\n",
        "\n",
        "* **Unchangeable but mutable**: Elements inside a set **CANNOT** be changed but can be added or removed\n",
        "\n",
        "* **No duplicates**: Sets do not allow duplicates of any data value to be stored within the same set"
      ],
      "metadata": {
        "id": "I4QYN5W-TdFe"
      }
    },
    {
      "cell_type": "code",
      "source": [
        "# Checking the length of the set\n",
        "\n",
        "len(set_colors)"
      ],
      "metadata": {
        "id": "u1IR4rRATdFf",
        "colab": {
          "base_uri": "https://localhost:8080/"
        },
        "outputId": "02fdb0cc-8c17-4a3c-9098-a337a5cd39f9"
      },
      "execution_count": null,
      "outputs": [
        {
          "output_type": "execute_result",
          "data": {
            "text/plain": [
              "5"
            ]
          },
          "metadata": {},
          "execution_count": 216
        }
      ]
    },
    {
      "cell_type": "code",
      "source": [
        "# Can contain different data types, except sets,lists, dict and tuples\n",
        "\n",
        "nested_set = {'Earth', 23, True, 56.5}\n",
        "\n",
        "nested_set"
      ],
      "metadata": {
        "id": "uaL8k85HTdFf",
        "colab": {
          "base_uri": "https://localhost:8080/"
        },
        "outputId": "882b5574-b70d-4745-ef6e-ec9ad6dbaaca"
      },
      "execution_count": null,
      "outputs": [
        {
          "output_type": "execute_result",
          "data": {
            "text/plain": [
              "{23, 56.5, 'Earth', True}"
            ]
          },
          "metadata": {},
          "execution_count": 217
        }
      ]
    },
    {
      "cell_type": "markdown",
      "source": [
        "## Dictionaries"
      ],
      "metadata": {
        "id": "6SZA6VLuNFRG"
      }
    },
    {
      "cell_type": "markdown",
      "source": [
        "Dictionaries are data types that store multiple elements of any data type with a key:value pair within a variable. They are created with **curly brackets** but with a **colon** between the key:value pair.\n",
        "\n",
        "<img src='https://programmathically.com/wp-content/uploads/2021/05/dictionary-1024x554.png' width=600>"
      ],
      "metadata": {
        "id": "1tPAgR_bWOuG"
      }
    },
    {
      "cell_type": "code",
      "source": [
        "# Example of a dictionary\n",
        "\n",
        "dict_student = {'Name':'Ryan', 'DOB': 1990, 'Height': 1.8, 'Unit': 'm', 'Height': 1.7}\n",
        "print(dict_student)\n",
        "type(dict_student)"
      ],
      "metadata": {
        "id": "7zLNpVNYWOuH",
        "colab": {
          "base_uri": "https://localhost:8080/"
        },
        "outputId": "2085f2be-9e62-4a9b-e494-2fbb230c025b"
      },
      "execution_count": null,
      "outputs": [
        {
          "output_type": "stream",
          "name": "stdout",
          "text": [
            "{'Name': 'Ryan', 'DOB': 1990, 'Height': 1.7, 'Unit': 'm'}\n"
          ]
        },
        {
          "output_type": "execute_result",
          "data": {
            "text/plain": [
              "dict"
            ]
          },
          "metadata": {},
          "execution_count": 218
        }
      ]
    },
    {
      "cell_type": "markdown",
      "source": [
        "They have the following properties that discern them between the 4 data types that used to store multiple elements of data:\n",
        "\n",
        "* **Indexed**: Dictionaries are defined with keys to each value, so they have user defined indices.\n",
        "\n",
        "* **Ordered** : Dictionaries are ordered in Python version 3.7 above, but unordered for Python 3.6 and earlier.\n",
        "\n",
        "* **Mutable**: Elements inside a dictionary can be changed, added or removed\n",
        "\n",
        "* **No duplicates**: Dictionary do not allow duplicates of any key value to be stored within the same dictionary. Any proceeding duplicates will overwrite the previous value *(refer above to how height was overwritten from 1.8 to 1.7)*"
      ],
      "metadata": {
        "id": "iNhjvTX9WOuI"
      }
    },
    {
      "cell_type": "code",
      "source": [
        "# Checking the length of the dictionary\n",
        "len(dict_student)"
      ],
      "metadata": {
        "id": "C9rDg_yUWOuI",
        "colab": {
          "base_uri": "https://localhost:8080/"
        },
        "outputId": "81ad7cba-8443-4113-b872-92f45469d3f3"
      },
      "execution_count": null,
      "outputs": [
        {
          "output_type": "execute_result",
          "data": {
            "text/plain": [
              "4"
            ]
          },
          "metadata": {},
          "execution_count": 219
        }
      ]
    },
    {
      "cell_type": "code",
      "source": [
        "# Can contain different data types, except sets,lists, dict and tuples as keys\n",
        "# edit\n",
        "nested_dict = {'First':'Earth', 2: 23, 'Third': True, 4: {'test',1}, True: {1:4,'Two':23}}\n",
        "\n",
        "nested_dict"
      ],
      "metadata": {
        "id": "pSu1XbtkWOuI",
        "colab": {
          "base_uri": "https://localhost:8080/"
        },
        "outputId": "4c299728-63cf-423d-9530-e760a0b5849f"
      },
      "execution_count": null,
      "outputs": [
        {
          "output_type": "execute_result",
          "data": {
            "text/plain": [
              "{'First': 'Earth',\n",
              " 2: 23,\n",
              " 'Third': True,\n",
              " 4: {1, 'test'},\n",
              " True: {1: 4, 'Two': 23}}"
            ]
          },
          "metadata": {},
          "execution_count": 220
        }
      ]
    },
    {
      "cell_type": "code",
      "source": [
        "# Retrieving individual element by key\n",
        "\n",
        "print(dict_student['Name'])\n",
        "type(dict_student['Name'])"
      ],
      "metadata": {
        "id": "Fonh0vRjNFGJ",
        "colab": {
          "base_uri": "https://localhost:8080/"
        },
        "outputId": "2456e974-da24-41a2-9957-9a559c24c7f6"
      },
      "execution_count": null,
      "outputs": [
        {
          "output_type": "stream",
          "name": "stdout",
          "text": [
            "Ryan\n"
          ]
        },
        {
          "output_type": "execute_result",
          "data": {
            "text/plain": [
              "str"
            ]
          },
          "metadata": {},
          "execution_count": 221
        }
      ]
    },
    {
      "cell_type": "code",
      "source": [
        "# Practice\n",
        "# Retrieve the height of this student\n",
        "print(dict_student['Height'])"
      ],
      "metadata": {
        "id": "6Zivw1vwPJ1_",
        "colab": {
          "base_uri": "https://localhost:8080/"
        },
        "outputId": "933e7be1-846f-473d-8321-835775a5a811"
      },
      "execution_count": null,
      "outputs": [
        {
          "output_type": "stream",
          "name": "stdout",
          "text": [
            "1.7\n"
          ]
        }
      ]
    },
    {
      "cell_type": "code",
      "source": [
        "# Exercise - get the second element from the True key in the nested dict\n",
        "print(nested_dict[True]['Two'])"
      ],
      "metadata": {
        "colab": {
          "base_uri": "https://localhost:8080/"
        },
        "id": "1LCjcJuObLpW",
        "outputId": "de978bfc-c5b0-432a-91d4-21a3a495ac12"
      },
      "execution_count": null,
      "outputs": [
        {
          "output_type": "stream",
          "name": "stdout",
          "text": [
            "23\n"
          ]
        }
      ]
    },
    {
      "cell_type": "markdown",
      "source": [
        "## Conditionals - If/Else"
      ],
      "metadata": {
        "id": "myp5kVyS4JKC"
      }
    },
    {
      "cell_type": "markdown",
      "source": [
        "If/Else statements are used to apply conditional processing of the code depending on the logical condition. \n",
        "Extending on the comparison operators, you can apply logical conditions in Python.\n",
        "\n",
        "\n"
      ],
      "metadata": {
        "id": "33-27sPl7irm"
      }
    },
    {
      "cell_type": "markdown",
      "source": [
        "| Operators   | Name     | Example |\n",
        "| ----------- | ----------- |------------ | \n",
        "| ==           | Equal      | x == y       |\n",
        "| !=          | Not equal      | x != y  | \n",
        "| >          | Greater than      | x > y   |\n",
        "| <          | Less than      | x < y   |\n",
        "| >=           | Greater than or equal to      | x >= y   |\n",
        "| <=          | Less than or equal to    | x <= y  |"
      ],
      "metadata": {
        "id": "MvNiIiA5_NIa"
      }
    },
    {
      "cell_type": "markdown",
      "source": [
        "Combining an if/else statement along with these comparison operators allows you to define how the code should flow."
      ],
      "metadata": {
        "id": "RE9j3mJt_Q-N"
      }
    },
    {
      "cell_type": "code",
      "source": [
        "# Testing an if/else statement\n",
        "\n",
        "num = 10\n",
        "\n",
        "# IFS(num>10,\"is greater than 10\",num=10,\"is equal to 10\",\"is less than 10\")\n",
        "if num > 10:\n",
        "    print(num, 'is greater than 10')\n",
        "elif num == 10:\n",
        "    print(num, 'is equal to 10')\n",
        "else:\n",
        "    print(num, 'is less than 10')"
      ],
      "metadata": {
        "id": "f4EFliU4_Y_t",
        "colab": {
          "base_uri": "https://localhost:8080/"
        },
        "outputId": "c9de7d64-3421-42d2-e06c-9e863d36758b"
      },
      "execution_count": null,
      "outputs": [
        {
          "output_type": "stream",
          "name": "stdout",
          "text": [
            "10 is equal to 10\n"
          ]
        }
      ]
    },
    {
      "cell_type": "code",
      "source": [
        "# If statements can also work by itself\n",
        "\n",
        "num = 5\n",
        "\n",
        "if num > 10:\n",
        "  print(num, 'is greater than 10')"
      ],
      "metadata": {
        "id": "nffIteqdAW6t"
      },
      "execution_count": null,
      "outputs": []
    },
    {
      "cell_type": "code",
      "source": [
        "# If statements can contain multiple pathways using elif (else if)\n",
        "# Try changing the value of num to see what prints out\n",
        "\n",
        "num = 2\n",
        "\n",
        "if num < 5:\n",
        "  print(num, 'is less than 5')\n",
        "elif num < 10:\n",
        "  print(num, 'is less than 10')\n",
        "elif num == 10:\n",
        "  print(num, 'is equal to 10')\n",
        "else:\n",
        "  print(num, 'is greater than 10')"
      ],
      "metadata": {
        "id": "XJ3M0JjcAxN3",
        "colab": {
          "base_uri": "https://localhost:8080/"
        },
        "outputId": "0afe2b7a-0818-40b8-f418-7dc3bcb5c58f"
      },
      "execution_count": null,
      "outputs": [
        {
          "output_type": "stream",
          "name": "stdout",
          "text": [
            "2 is less than 5\n"
          ]
        }
      ]
    },
    {
      "cell_type": "markdown",
      "source": [
        "**Practice** - Print the square of a number only if it is an even number"
      ],
      "metadata": {
        "id": "08MvM-vXxNCg"
      }
    },
    {
      "cell_type": "code",
      "source": [
        "# Hint: use the remainder operator\n",
        "number_test = 4\n",
        "\n",
        "if number_test % 2 == 0:\n",
        "    print(number_test**2)"
      ],
      "metadata": {
        "id": "RIZlXeCGxozi",
        "colab": {
          "base_uri": "https://localhost:8080/"
        },
        "outputId": "8bce0205-e850-418c-acd0-4b37fd5aa925"
      },
      "execution_count": null,
      "outputs": [
        {
          "output_type": "stream",
          "name": "stdout",
          "text": [
            "16\n"
          ]
        }
      ]
    },
    {
      "cell_type": "code",
      "source": [
        "# Bonus: Print the square of a number only if it is divisible by 13.\n",
        "number_test = 26\n",
        "if number_test%13 == 0:\n",
        "    print(number_test ** 2)\n"
      ],
      "metadata": {
        "id": "MwBaxjqfA8_h",
        "colab": {
          "base_uri": "https://localhost:8080/"
        },
        "outputId": "88db28b2-2c4a-408a-aa93-a5c5c21d57a0"
      },
      "execution_count": null,
      "outputs": [
        {
          "output_type": "stream",
          "name": "stdout",
          "text": [
            "676\n"
          ]
        }
      ]
    },
    {
      "cell_type": "markdown",
      "source": [
        "## Loops"
      ],
      "metadata": {
        "id": "L5mAq8zJgrRv"
      }
    },
    {
      "cell_type": "markdown",
      "source": [
        "### For Loops"
      ],
      "metadata": {
        "id": "GlJPJtUJsHiG"
      }
    },
    {
      "cell_type": "markdown",
      "source": [
        "When working with a data type that has multiple elements in it (string, set, list, tuple, dictionary), you may have to perform a certain operation on each of the elements. `For` loops are used to iterate over the elements in a data sequence.\n",
        "\n",
        "<img src='https://pynative.com/wp-content/uploads/2021/06/for-loop-in-python.png' width=600>\n"
      ],
      "metadata": {
        "id": "RKuy7co3KdqS"
      }
    },
    {
      "cell_type": "code",
      "source": [
        "# variable is a sequence\n",
        "# Iterating over a sequence of elements in a list\n",
        "\n",
        "fruits = [24, 35, 22, 16, 26]\n",
        "\n",
        "for x in fruits:\n",
        "  print(x)"
      ],
      "metadata": {
        "id": "kaD0Gxp9SJmE",
        "colab": {
          "base_uri": "https://localhost:8080/"
        },
        "outputId": "47748ea6-1045-4692-f1d3-4b3e715d1147"
      },
      "execution_count": null,
      "outputs": [
        {
          "output_type": "stream",
          "name": "stdout",
          "text": [
            "24\n",
            "35\n",
            "22\n",
            "16\n",
            "26\n"
          ]
        }
      ]
    },
    {
      "cell_type": "code",
      "source": [
        "# Iterating over a sequence of elements in a dict\n",
        "\n",
        "shopping_list = {'milk': 2, 'eggs': 6, 'bread': 1, 'cheese': 2}\n",
        "\n",
        "# First Loop\n",
        "x = 'milk'\n",
        "print(shopping_list[x])\n",
        "# Second Loop\n",
        "x = 'eggs'\n",
        "print(shopping_list[x])\n",
        "# Third Loop\n",
        "x = 'bread'\n",
        "print(shopping_list[x])\n",
        "# Fourth Loop\n",
        "x = 'cheese'\n",
        "print(shopping_list[x])\n",
        "\n",
        "\n",
        "# OR just create a for-loop\n",
        "print('')\n",
        "print('Faster Way')\n",
        "for x in shopping_list:\n",
        "    print(shopping_list[x])"
      ],
      "metadata": {
        "id": "aFEfB0xmTuna",
        "colab": {
          "base_uri": "https://localhost:8080/"
        },
        "outputId": "a6558901-0574-4672-d63e-ac4242497278"
      },
      "execution_count": null,
      "outputs": [
        {
          "output_type": "stream",
          "name": "stdout",
          "text": [
            "2\n",
            "6\n",
            "1\n",
            "2\n",
            "\n",
            "Faster Way\n",
            "2\n",
            "6\n",
            "1\n",
            "2\n"
          ]
        }
      ]
    },
    {
      "cell_type": "code",
      "source": [
        "for x in shopping_list:\n",
        "    print(x)"
      ],
      "metadata": {
        "colab": {
          "base_uri": "https://localhost:8080/"
        },
        "id": "CCfHkVKJiVYl",
        "outputId": "c3fa2b01-65c5-45ae-92dc-0c74494c09d1"
      },
      "execution_count": null,
      "outputs": [
        {
          "output_type": "stream",
          "name": "stdout",
          "text": [
            "milk\n",
            "eggs\n",
            "bread\n",
            "cheese\n"
          ]
        }
      ]
    },
    {
      "cell_type": "code",
      "source": [
        "for key, value in shopping_list.items():\n",
        "    print(key, value)"
      ],
      "metadata": {
        "colab": {
          "base_uri": "https://localhost:8080/"
        },
        "id": "Kvmmuj6oicLh",
        "outputId": "6c6de35c-8962-4fe9-9ac2-038a804fd43f"
      },
      "execution_count": null,
      "outputs": [
        {
          "output_type": "stream",
          "name": "stdout",
          "text": [
            "milk 2\n",
            "eggs 6\n",
            "bread 1\n",
            "cheese 2\n"
          ]
        }
      ]
    },
    {
      "cell_type": "markdown",
      "source": [
        "`For` loops can also be used to repeat a certain piece of code for a user defined number of times using the `range()` function. \n",
        "\n",
        "The `range()` function returns a sequence of numbers, starting from 0 (default, can be changed), incremented by 1 (default, can be changed) and ends at a user specified value.\n",
        "\n",
        "Syntax = `range(start*, stop, increment*)`\n",
        "\n",
        " *= optional"
      ],
      "metadata": {
        "id": "nMTwCJUwRJ6L"
      }
    },
    {
      "cell_type": "code",
      "source": [
        "# Printing the elements generated by the range() function\n",
        "for num in range(8):\n",
        "  print(num)"
      ],
      "metadata": {
        "id": "L7PBVCELWPAK",
        "colab": {
          "base_uri": "https://localhost:8080/"
        },
        "outputId": "3bc40400-71cf-4316-f451-25bb8687f65c"
      },
      "execution_count": null,
      "outputs": [
        {
          "output_type": "stream",
          "name": "stdout",
          "text": [
            "0\n",
            "1\n",
            "2\n",
            "3\n",
            "4\n",
            "5\n",
            "6\n",
            "7\n"
          ]
        }
      ]
    },
    {
      "cell_type": "code",
      "source": [
        "# Note that the number sequence is not inclusive of the end value\n",
        "\n",
        "for num in range(0,10,2):  # start, stop, step\n",
        "  print(num)"
      ],
      "metadata": {
        "id": "tqmuPZxwfpO2",
        "colab": {
          "base_uri": "https://localhost:8080/"
        },
        "outputId": "d1b40828-3258-49f1-e21d-58105110b50b"
      },
      "execution_count": null,
      "outputs": [
        {
          "output_type": "stream",
          "name": "stdout",
          "text": [
            "0\n",
            "2\n",
            "4\n",
            "6\n",
            "8\n"
          ]
        }
      ]
    },
    {
      "cell_type": "code",
      "source": [
        "# Repeating a piece of code with for loop\n",
        "\n",
        "for x in range(0, 5):\n",
        "  print('This is loop', x)"
      ],
      "metadata": {
        "id": "gxhatopaV20v",
        "colab": {
          "base_uri": "https://localhost:8080/"
        },
        "outputId": "c8a1256c-35a8-47f1-b94c-398afc061dd6"
      },
      "execution_count": null,
      "outputs": [
        {
          "output_type": "stream",
          "name": "stdout",
          "text": [
            "This is loop 0\n",
            "This is loop 1\n",
            "This is loop 2\n",
            "This is loop 3\n",
            "This is loop 4\n"
          ]
        }
      ]
    },
    {
      "cell_type": "code",
      "source": [
        "list_of_numbers = [5, 2, 56, 22]\n",
        "\n",
        "# I want to multiply every number in this list by 2.\n",
        "\n",
        "list_of_numbers[0] = list_of_numbers[0] * 2\n",
        "list_of_numbers[1] = list_of_numbers[1] * 2\n",
        "list_of_numbers[2] = list_of_numbers[2] * 2\n",
        "list_of_numbers[3] = list_of_numbers[3] * 2\n",
        "\n",
        "print(list_of_numbers)"
      ],
      "metadata": {
        "id": "X350CkmFefeF",
        "colab": {
          "base_uri": "https://localhost:8080/"
        },
        "outputId": "bd741ec2-f329-47b0-b82f-f6a8b1d8de15"
      },
      "execution_count": null,
      "outputs": [
        {
          "output_type": "stream",
          "name": "stdout",
          "text": [
            "[10, 4, 112, 44]\n"
          ]
        }
      ]
    },
    {
      "cell_type": "code",
      "source": [
        "list_of_numbers = [5, 2, 56, 22]\n",
        "\n",
        "# I want to multiply every number in this list by 2.\n",
        "\n",
        "for num in range(0, 4): # num is counting: 0, 1, 2, 3\n",
        "    list_of_numbers[num] = list_of_numbers[num] * 2\n",
        "\n",
        "print(list_of_numbers)"
      ],
      "metadata": {
        "id": "tnoZTPYxextV",
        "colab": {
          "base_uri": "https://localhost:8080/"
        },
        "outputId": "3c3d839f-a406-471d-9edb-cf74114d0eb9"
      },
      "execution_count": null,
      "outputs": [
        {
          "output_type": "stream",
          "name": "stdout",
          "text": [
            "[10, 4, 112, 44]\n"
          ]
        }
      ]
    },
    {
      "cell_type": "markdown",
      "source": [
        "**Practice: repeat the for-loop above but only multiply by 2 if the value is already greater than 10**"
      ],
      "metadata": {
        "id": "YqQo6BxTkbmh"
      }
    },
    {
      "cell_type": "code",
      "source": [
        "# Hint: if-statement inside of the for-loop\n",
        "list_of_numbers = [5, 2, 56, 22]\n",
        "\n",
        "# Version 1\n",
        "for num in range(0, 4):\n",
        "  if num > 10:\n",
        "    list_of_numbers[num] = list_of_numbers[num] * 2\n",
        "\n",
        "print(list_of_numbers)"
      ],
      "metadata": {
        "id": "LYPd7pVhkyAH",
        "colab": {
          "base_uri": "https://localhost:8080/"
        },
        "outputId": "ea7e2232-e708-496f-b689-ee2915bbd9ef"
      },
      "execution_count": null,
      "outputs": [
        {
          "output_type": "stream",
          "name": "stdout",
          "text": [
            "[5, 2, 56, 22]\n"
          ]
        }
      ]
    },
    {
      "cell_type": "code",
      "source": [
        "# Version 2\n",
        "list_of_numbers = [5, 2, 56, 22]\n",
        "\n",
        "for i in range(0,4):\n",
        "  if list_of_numbers[i]>10:\n",
        "    list_of_numbers[i] = list_of_numbers[i]*2\n",
        "print(list_of_numbers)"
      ],
      "metadata": {
        "colab": {
          "base_uri": "https://localhost:8080/"
        },
        "id": "mPvQNo-LkIer",
        "outputId": "170371e8-7077-47b0-a7aa-bde22843003b"
      },
      "execution_count": null,
      "outputs": [
        {
          "output_type": "stream",
          "name": "stdout",
          "text": [
            "[5, 2, 112, 44]\n"
          ]
        }
      ]
    },
    {
      "cell_type": "code",
      "source": [
        "# Bonus: loop through the length of the list, not the number 4\n",
        "\n",
        "# v1\n",
        "list_of_numbers = [5, 2, 56, 22]\n",
        "\n",
        "for num in range(0, (len(list_of_numbers)-1)): # num is counting: 0, 1, 2, 3\n",
        "    list_of_numbers[num] = list_of_numbers[num] * 2\n",
        "\n",
        "print(list_of_numbers)"
      ],
      "metadata": {
        "colab": {
          "base_uri": "https://localhost:8080/"
        },
        "id": "S4QL7kRli2TH",
        "outputId": "0d3ab021-542c-4e2e-d34d-bd07bf24d1d1"
      },
      "execution_count": null,
      "outputs": [
        {
          "output_type": "stream",
          "name": "stdout",
          "text": [
            "[10, 4, 112, 22]\n"
          ]
        }
      ]
    },
    {
      "cell_type": "code",
      "source": [
        "# v2\n",
        "list_of_numbers = [5, 2, 56, 22]\n",
        "for i in range(len(list_of_numbers)):\n",
        "  if list_of_numbers[i]>10:\n",
        "    list_of_numbers[i] = list_of_numbers[i]*2\n",
        "print(list_of_numbers)"
      ],
      "metadata": {
        "colab": {
          "base_uri": "https://localhost:8080/"
        },
        "id": "Za_PSDFlkS9e",
        "outputId": "33a6d998-0851-4d95-ddd9-35aa93f82b2c"
      },
      "execution_count": null,
      "outputs": [
        {
          "output_type": "stream",
          "name": "stdout",
          "text": [
            "[5, 2, 112, 44]\n"
          ]
        }
      ]
    },
    {
      "cell_type": "markdown",
      "source": [
        "\n",
        "### While Loops"
      ],
      "metadata": {
        "id": "u0rWNDDC4Ljq"
      }
    },
    {
      "cell_type": "markdown",
      "source": [
        "The `while` loop is another type of loop that allows a certain piece of code to be repeated as long as a specified condition is `True`. Using a combination of comparison operators and boolean logic, a piece of code will keep repeating as long as the condition is not `False`. \n",
        "\n",
        "**Keep in mind that this may lead to an infinite loop (the loop keeps on repeating) unless the condition is changed to `False` within the code or the `break` statement is used.** "
      ],
      "metadata": {
        "id": "kM6HK6jHdvj1"
      }
    },
    {
      "cell_type": "code",
      "source": [
        "# Example of a while loop\n",
        "\n",
        "counter = 0\n",
        "\n",
        "while counter < 5:\n",
        "  print(counter)\n",
        "  counter += 1"
      ],
      "metadata": {
        "id": "QqvibpoyGEw3",
        "colab": {
          "base_uri": "https://localhost:8080/"
        },
        "outputId": "e81e768a-14eb-4968-9d08-52b707b9774f"
      },
      "execution_count": null,
      "outputs": [
        {
          "output_type": "stream",
          "name": "stdout",
          "text": [
            "0\n",
            "1\n",
            "2\n",
            "3\n",
            "4\n"
          ]
        }
      ]
    },
    {
      "cell_type": "code",
      "source": [
        "# If the counter is not incremented each loop, the condition stays True and code goes into an infinite loop\n",
        "# In case you have run this, you can click the stop button to stop execution\n",
        "\n",
        "counter = 0\n",
        "\n",
        "while counter < 5:\n",
        "    print(counter)"
      ],
      "metadata": {
        "id": "UUc4soEPGRbo"
      },
      "execution_count": null,
      "outputs": []
    },
    {
      "cell_type": "markdown",
      "source": [
        "## Functions"
      ],
      "metadata": {
        "id": "oDdxdlDen7t_"
      }
    },
    {
      "cell_type": "markdown",
      "source": [
        "A function is a block of code that runs only when it is called. If you have a piece of code that will be reused many times, you can define it as a function and call the function instead of retyping the code everytime you want to use it."
      ],
      "metadata": {
        "id": "xPG6x4jgn9hx"
      }
    },
    {
      "cell_type": "code",
      "source": [
        "print('hello world')"
      ],
      "metadata": {
        "id": "BEVJcPpErfl_"
      },
      "execution_count": null,
      "outputs": []
    },
    {
      "cell_type": "markdown",
      "source": [
        "y = f(x)"
      ],
      "metadata": {
        "id": "b-x5uoibrugf"
      }
    },
    {
      "cell_type": "code",
      "source": [
        "# Adding two numbers and printing without function\n",
        "\n",
        "a = 5\n",
        "b = 10\n",
        "\n",
        "sum_result = a + b\n",
        "print('The sum is', sum_result)\n",
        "\n",
        "a = 10\n",
        "b = 20\n",
        "\n",
        "sum_result = a + b\n",
        "print('The sum is', sum_result)"
      ],
      "metadata": {
        "id": "OAz47suZoueL"
      },
      "execution_count": null,
      "outputs": []
    },
    {
      "cell_type": "code",
      "source": [
        "# Defining a function to add two numbers and printing the sum\n",
        "\n",
        "def addition(num1, num2):\n",
        "  sum_result = num1 + num2\n",
        "  print('The sum is', sum_result)\n",
        "\n",
        "# Calling the function\n",
        "\n",
        "a = 5\n",
        "b = 10\n",
        "\n",
        "addition(a,b)\n",
        "\n",
        "a = 10\n",
        "b = 20\n",
        "\n",
        "addition(a,b)\n"
      ],
      "metadata": {
        "id": "dUKOipp0pTcv"
      },
      "execution_count": null,
      "outputs": []
    },
    {
      "cell_type": "markdown",
      "source": [
        "    def some_function(input):\n",
        "        # Put code here.\n",
        "        some_value = #expression\n",
        "        print(input)\n",
        "        return some_value"
      ],
      "metadata": {
        "id": "m1f35CoGm6sr"
      }
    },
    {
      "cell_type": "markdown",
      "source": [
        "As you can see in the example above, we have used a function instead of having to type out the code again to add two numbers and printing it out. The use of functions may not be evident when it comes to a few lines of code but when it comes to writing a few hundred lines of code for a few hundred usages, you may imagine how tedious it can be.\n",
        "\n",
        "Functions allow ease of reuse of code without having to clutter up your code and standardize the contents of what a piece of code should contain.\n",
        "\n",
        "You have already been using functions as you started this notebook. Print(), type(), len(), range() are all examples of built-in functions in Python (please refer to the [documentation](https://docs.python.org/3/library/functions.html) for more details).\n"
      ],
      "metadata": {
        "id": "4epDl6o-p0Mr"
      }
    },
    {
      "cell_type": "markdown",
      "source": [
        "### Logic and structure of functions"
      ],
      "metadata": {
        "id": "LmPSO-zhq9uE"
      }
    },
    {
      "cell_type": "markdown",
      "source": [
        "Consider the following dummy function:"
      ],
      "metadata": {
        "id": "Kpfltu1qwlSO"
      }
    },
    {
      "cell_type": "code",
      "source": [
        "constant_value = 5\n",
        "\n",
        "def function_name(input1, input2):\n",
        "  \n",
        "  # Do something with input1 and input2\n",
        "  output = input1 + input2\n",
        "\n",
        "  return output"
      ],
      "metadata": {
        "id": "k3XXxyTvtB6w"
      },
      "execution_count": null,
      "outputs": []
    },
    {
      "cell_type": "markdown",
      "source": [
        "<img src='https://assets.alexandria.raywenderlich.com/books/da/images/4d60cfe665878267599b825b56aa77f73ad6722073fd0a9e172e3a6c82429fc0/original.png' width=600>\n"
      ],
      "metadata": {
        "id": "QQd83y_hvpMU"
      }
    },
    {
      "cell_type": "markdown",
      "source": [
        "**Functions may take in input variables/values, process any code within the function and output results.**"
      ],
      "metadata": {
        "id": "l3fPisPHwEei"
      }
    },
    {
      "cell_type": "markdown",
      "source": [
        "<img src='https://media.geeksforgeeks.org/wp-content/uploads/20220721172423/51.png' width=600>\n"
      ],
      "metadata": {
        "id": "cmpboqmCv4pw"
      }
    },
    {
      "cell_type": "markdown",
      "source": [
        "### Process flow"
      ],
      "metadata": {
        "id": "KNsCGKYHOqBj"
      }
    },
    {
      "cell_type": "markdown",
      "source": [
        "When working with functions, there are two distinct phases to it. The first phase is to create or define the function with a name and code logic of what it will once executed. The second phase is to utilize the function by calling it. \n",
        "\n",
        "*Please note that the term 'phases' have been used here to distinguish between the creating a function and calling it.*\n",
        "\n",
        "When the function is defined, it is not executed. The definition of the function stores it in a file called a module, which can be imported as well. There are several advantages to using functions:\n",
        "* Functions can be re-used in other programs if you have imported it into other program files\n",
        "\n",
        "* It is easy to share the function modules without having to share the whole program\n",
        "\n",
        "* You can use functions that other people have written through importing function libraries (We will look into libraries further)\n"
      ],
      "metadata": {
        "id": "QEgjwvAsOuHN"
      }
    },
    {
      "cell_type": "markdown",
      "source": [
        "#### Creating a function"
      ],
      "metadata": {
        "id": "lSf3i-LjrBzd"
      }
    },
    {
      "cell_type": "code",
      "source": [
        "# Define a function that greets the input name\n",
        "\n",
        "student1 = 'John'\n",
        "\n",
        "def greet(name):\n",
        "  print(f'Hello there {name}!') #This is a f-string formatting"
      ],
      "metadata": {
        "id": "qRXJR5a5RCne"
      },
      "execution_count": null,
      "outputs": []
    },
    {
      "cell_type": "code",
      "source": [
        "def greet2(name):\n",
        "  return f'Hello there {name}!'"
      ],
      "metadata": {
        "id": "5OGD-SeAHnbX"
      },
      "execution_count": null,
      "outputs": []
    },
    {
      "cell_type": "markdown",
      "source": [
        "Notice how there is no printed output even though the function contains a print statement. **This is because the function is only being defined and retained in a module, not executed.**"
      ],
      "metadata": {
        "id": "6Usu6HNDS4iE"
      }
    },
    {
      "cell_type": "markdown",
      "source": [
        "#### Calling a function"
      ],
      "metadata": {
        "id": "5C7Hq_UQrEvS"
      }
    },
    {
      "cell_type": "markdown",
      "source": [
        "When a function has been defined or imported, it can now be called and executed. \n",
        "* Calling: Refers to the code that you type to retrieve the function\n",
        "* Executing: Running the code with the function in it to receive an output\n",
        "\n",
        "Functions are called by typing out the function name followed by parentheses. "
      ],
      "metadata": {
        "id": "vAzDTt3vQBAN"
      }
    },
    {
      "cell_type": "code",
      "source": [
        "# Calling the function and executing it\n",
        "\n",
        "student1 = 'John'\n",
        "student2 = 'Yahia'\n",
        "student3 = 'Person'\n",
        "\n",
        "greet(student1)\n",
        "greet(student2)"
      ],
      "metadata": {
        "id": "7p0brEr8TReW"
      },
      "execution_count": null,
      "outputs": []
    },
    {
      "cell_type": "code",
      "source": [
        "greet2('Yahia')"
      ],
      "metadata": {
        "id": "RlAaUBnNwq6t"
      },
      "execution_count": null,
      "outputs": []
    },
    {
      "cell_type": "code",
      "source": [
        "greeting_result_firstattempt = greet('John')\n",
        "greeting_result_secondattempt = greet2('Yahia')\n",
        "\n",
        "# print('Printing')\n",
        "# print(greeting_result_firstattempt)\n",
        "# print(greeting_result_secondattempt)"
      ],
      "metadata": {
        "id": "IrVdMFa9Hx29"
      },
      "execution_count": null,
      "outputs": []
    },
    {
      "cell_type": "code",
      "source": [
        "# edit\n",
        "a = 2\n",
        "b = 4\n",
        "\n",
        "new_variable = print(a)\n",
        "newer_variable = a\n",
        "\n",
        "print('Printing')\n",
        "print(new_variable)\n",
        "print(newer_variable)"
      ],
      "metadata": {
        "id": "ELiOeOteFntd"
      },
      "execution_count": null,
      "outputs": []
    },
    {
      "cell_type": "markdown",
      "source": [
        "#### Passing arguments"
      ],
      "metadata": {
        "id": "gwk5T9o7rH9i"
      }
    },
    {
      "cell_type": "markdown",
      "source": [
        "Functions can work with external information by passing them as arguments to the parameters of a function. When defining a function, the number of parameters it accepts as input is also defined within the parentheses after the function name.\n",
        "\n",
        "```\n",
        "def sum(input1,input2):\n",
        "    output = input1 + input2\n",
        "    return output\n",
        "```\n",
        "In the example above, the function takes two arguments as input parameters.\n",
        "\n",
        "* **Parameter**: Variable in a function defintion, does not have any stored value\n",
        "\n",
        "* **Argument**: Value/variable passed while calling a function\n",
        "\n",
        "```\n",
        "a = 1\n",
        "b = 1\n",
        "\n",
        "sum(a,b)\n",
        "```\n",
        "\n",
        "We are passing *a* and *b* as arguments to the input parameter of the sum function. These arguments are then used by the function code to return an output."
      ],
      "metadata": {
        "id": "su86tfQcX6B7"
      }
    },
    {
      "cell_type": "markdown",
      "source": [
        "#### Returning vs printing **(Important)**"
      ],
      "metadata": {
        "id": "b1sQKKv-cxF-"
      }
    },
    {
      "cell_type": "markdown",
      "source": [
        "When we use the print() function, we are displaying the printed value on the Python console but does not store the data. This is different from the return value of a function. The return value of the function is the output of the function which can be used outside the function."
      ],
      "metadata": {
        "id": "yRgpToba02DG"
      }
    },
    {
      "cell_type": "code",
      "source": [
        "# Defining a function with print\n",
        "\n",
        "def print_test():\n",
        "  print(5)\n",
        "\n",
        "# Calling the function, adding 5 to it and assigning to a variable\n",
        "\n",
        "a = print_test()\n",
        "print(a)\n",
        "type(a)"
      ],
      "metadata": {
        "id": "dzfJx_Sm1O_c"
      },
      "execution_count": null,
      "outputs": []
    },
    {
      "cell_type": "markdown",
      "source": [
        "In the example above, you can see that even though the function is defined to print 5 when called, the printed value is of NoneType and not an int, as expected of the print() function."
      ],
      "metadata": {
        "id": "I97QYw9S15_9"
      }
    },
    {
      "cell_type": "code",
      "source": [
        "# Testing the data type of print values\n",
        "type(print('test'))"
      ],
      "metadata": {
        "id": "cx4riLBP2QH8"
      },
      "execution_count": null,
      "outputs": []
    },
    {
      "cell_type": "markdown",
      "source": [
        "Return values are output values of functions that can be utilized outside the function. The return value type depends on the output value data type."
      ],
      "metadata": {
        "id": "0i0ZN7tN2TZZ"
      }
    },
    {
      "cell_type": "code",
      "source": [
        "def print_test():\n",
        "  return 10\n",
        "\n",
        "a = 5 + print_test()\n",
        "print(a)\n",
        "type(a)"
      ],
      "metadata": {
        "id": "RWdAz1vkGL_d"
      },
      "execution_count": null,
      "outputs": []
    },
    {
      "cell_type": "markdown",
      "source": [
        "## Libraries\n",
        "\n",
        "We often talk about Python in terms of two things: the standard library and the ecosystem.\n",
        "\n",
        "\n",
        "### The Standard Library\n",
        "The Python standard library is also known as \"pure\" Python. It is the language maintained by the Python Software Foundation. When you install Python, it comes with \"standard\" things that we have learned so far. Things like lists, tuples, basic math, and some other things. These are collections of script modules that makes programming easy without having to write commonly used commands from scratch.\n",
        "\n",
        "### The Ecosystem\n",
        "Python's ecosystem is the reason it is popular in the data industry. When we talk about Python, we most often are talking about the \"Python Ecosystem\". The ecosystem is the standard library plus third-party open-source libraries. They are libraries, made by anyone around the world, that are like \"add-ons\" to Python that you can download and install for free.\n",
        "\n",
        "Python's ecosystem is so big (hundreds of thousands of third party libraries) that some groups of people organized them into websites where you can easily download and install third party libraries. They are below:\n",
        "\n",
        "- [Python Package Index (PyPI). Hundreds of thousands of libraries that do everything from mapping to stock trading](https://www.PyPi.org)\n",
        "- [Anaconda Distribution. This is Python + popular third party scientific libraries](https://www.anaconda.com/products/distribution)\n",
        "- [Conda](https://www.conda.io)"
      ],
      "metadata": {
        "id": "j4qxMv9LtEWP"
      }
    },
    {
      "cell_type": "markdown",
      "source": [
        "### Common Libraries\n",
        "- NumPy - for working with numbers\n",
        "- Pandas - for data analysis\n",
        "- Matplotlib - for making plots\n",
        "- Datetime - for working with dates\n",
        "- requests - for working with APIs\n",
        "- pdb - for debugging"
      ],
      "metadata": {
        "id": "taB2jxKgzEO7"
      }
    },
    {
      "cell_type": "markdown",
      "source": [
        "**Importing a Library**"
      ],
      "metadata": {
        "id": "RefbtJnhzd_d"
      }
    },
    {
      "cell_type": "code",
      "source": [
        "import numpy\n",
        "\n",
        "numpy.array([1, 2, 3])"
      ],
      "metadata": {
        "id": "EPsa0tRRLHog"
      },
      "execution_count": null,
      "outputs": []
    },
    {
      "cell_type": "code",
      "source": [
        "import numpy as np\n",
        "\n",
        "np.array([1, 2, 3, 4, 5])"
      ],
      "metadata": {
        "id": "asJfcGGZza4-"
      },
      "execution_count": null,
      "outputs": []
    },
    {
      "cell_type": "code",
      "source": [
        "import datetime as dt\n",
        "\n",
        "dt.datetime.now()"
      ],
      "metadata": {
        "id": "WOcociGuzk3E"
      },
      "execution_count": null,
      "outputs": []
    },
    {
      "cell_type": "code",
      "source": [
        "import datetime as dt\n",
        "\n",
        "dt.date.today()"
      ],
      "metadata": {
        "id": "1UWRUdXrL2RQ"
      },
      "execution_count": null,
      "outputs": []
    },
    {
      "cell_type": "markdown",
      "source": [
        "**Exercise** Find a library on [PyPI](https://www.pypi.org) that makes maps!"
      ],
      "metadata": {
        "id": "k5q2fS-W0huK"
      }
    },
    {
      "cell_type": "code",
      "source": [
        "# Your code here\n"
      ],
      "metadata": {
        "id": "tq2725MhoWdq"
      },
      "execution_count": null,
      "outputs": []
    },
    {
      "cell_type": "markdown",
      "source": [
        "## Resources\n",
        "- The world's most popular Python podcast: [Talk Python to Me](https://talkpython.fm)\n",
        "- The definitive book on Pandas: [Python for Data Analysis](https://wesmckinney.com/book/)\n",
        "- The BEST Introduction to Applied Statistics: [StatQuest - Joshua Starmer](https://www.youtube.com/playlist?list=PLblh5JKOoLUK0FLuzwntyYI10UQFUhsY9)"
      ],
      "metadata": {
        "id": "KIDznaIF9OAi"
      }
    },
    {
      "cell_type": "code",
      "source": [],
      "metadata": {
        "id": "Wu9L1V6T9MpD"
      },
      "execution_count": null,
      "outputs": []
    }
  ]
}